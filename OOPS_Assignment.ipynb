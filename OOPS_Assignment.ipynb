{
  "nbformat": 4,
  "nbformat_minor": 0,
  "metadata": {
    "colab": {
      "provenance": []
    },
    "kernelspec": {
      "name": "python3",
      "display_name": "Python 3"
    },
    "language_info": {
      "name": "python"
    }
  },
  "cells": [
    {
      "cell_type": "markdown",
      "source": [
        "1. What is Object-Oriented Programming (OOP)?\n",
        "\n",
        "\n",
        "Object-Oriented Programming (OOP) is a programming paradigm that organizes code using objects, which are instances of classes. It allows you to structure your programs in a way that is closer to real-world entities. Instead of writing code as a list of instructions or procedures (as in procedural programming), OOP focuses on objects that have:\n",
        "-> Attributes (data)\n",
        "-> Methods (functions that operate on the data)\n",
        "Key Idea:\n",
        "Think of a class as a blueprint (like a car design), and an object as a specific car built from that blueprint.\n",
        "Benefits of OOP:\n",
        "Modularity: Code is organized into logical, reusable pieces.\n",
        "\n",
        "Reusability: Classes can be reused across projects.\n",
        "\n",
        "Maintainability: Easier to update and debug.\n",
        "\n",
        "Scalability: Suitable for large, complex applications."
      ],
      "metadata": {
        "id": "LgwMvx9OaSa7"
      }
    },
    {
      "cell_type": "code",
      "source": [
        "class person:\n",
        "    def __init__(self,name,age):\n",
        "        self.name = name\n",
        "        self.age = age\n",
        "    def greet(self):\n",
        "        print(f\"Hello My name is {self.name}. I am {self.age} Years old\")\n"
      ],
      "metadata": {
        "id": "v084P2z0aUrS"
      },
      "execution_count": 6,
      "outputs": []
    },
    {
      "cell_type": "code",
      "source": [],
      "metadata": {
        "id": "jBNoxweWutju"
      },
      "execution_count": null,
      "outputs": []
    },
    {
      "cell_type": "code",
      "source": [
        "obj = person(\"Srivani\",21)\n",
        "obj.greet()"
      ],
      "metadata": {
        "colab": {
          "base_uri": "https://localhost:8080/"
        },
        "id": "UMYwJEtOabx6",
        "outputId": "2fac3989-00d5-4e2b-f89b-d4b152696914"
      },
      "execution_count": 7,
      "outputs": [
        {
          "output_type": "stream",
          "name": "stdout",
          "text": [
            "Hello My name is Srivani. I am 21 Years old\n"
          ]
        }
      ]
    },
    {
      "cell_type": "markdown",
      "source": [
        "2. What is a class in OOP?\n",
        "A class in Object-Oriented Programming (OOP) is a blueprint or template used to create objects.\n",
        "\n",
        "Definition:\n",
        "A class defines the attributes (data) and methods (functions) that its objects will have. Think of a class like a cookie cutter, and the objects are the cookies made from it.\n",
        "Structure of a Class in Python:"
      ],
      "metadata": {
        "id": "itYz2u3da3qt"
      }
    },
    {
      "cell_type": "code",
      "source": [
        "class ClassName:\n",
        "    def __init__(self, attribute1, attribute2):\n",
        "        self.attribute1 = attribute1\n",
        "        self.attribute2 = attribute2\n",
        "\n",
        "    def method1(self):\n",
        "        pass"
      ],
      "metadata": {
        "id": "Pp6zDCZia6Rq"
      },
      "execution_count": 8,
      "outputs": []
    },
    {
      "cell_type": "code",
      "source": [
        "class Student:\n",
        "    def __init__(self,name,roll_no):\n",
        "        self.name = name\n",
        "        self.roll_no = roll_no\n",
        "    def student_info(self):\n",
        "        print(f\"name: {self.name},Roll No:{self.roll_no}\")"
      ],
      "metadata": {
        "id": "t6nfLuAsa9wR"
      },
      "execution_count": 9,
      "outputs": []
    },
    {
      "cell_type": "code",
      "source": [
        "stud1 = Student(\"Srivani\",40)\n",
        "stud1.student_info()"
      ],
      "metadata": {
        "colab": {
          "base_uri": "https://localhost:8080/"
        },
        "id": "QGDprZ4KbEDB",
        "outputId": "4d67249d-2d73-4b84-e1c8-2481c115c4d0"
      },
      "execution_count": 10,
      "outputs": [
        {
          "output_type": "stream",
          "name": "stdout",
          "text": [
            "name: Srivani,Roll No:40\n"
          ]
        }
      ]
    },
    {
      "cell_type": "markdown",
      "source": [
        "From above: Student is the class.\n",
        "\n",
        "name and roll_no are attributes.\n",
        "\n",
        "student_info() is a method.\n",
        "\n",
        "Key Points:\n",
        "A class does not hold actual data; it's just a design.\n",
        "\n",
        "You need to create an object (instance) of the class to use it."
      ],
      "metadata": {
        "id": "bfysMxsdbMlk"
      }
    },
    {
      "cell_type": "markdown",
      "source": [
        "3 What is an object in OOP?\n",
        "\n",
        "\n",
        "An object is a real-world instance of a class. It is created using a class and contains actual data.\n",
        "Definition:\n",
        "An object is an instance of a class that contains both data (attributes) and behavior (methods).\n",
        "Analogy:\n",
        "Class: Blueprint of a car.\n",
        "\n",
        "Object: A specific car built using the blueprint (e.g., red Toyota Corolla with AC)."
      ],
      "metadata": {
        "id": "NB--j9V7bWJq"
      }
    },
    {
      "cell_type": "markdown",
      "source": [
        "Example in Python:"
      ],
      "metadata": {
        "id": "rUphjOoDbZ9R"
      }
    },
    {
      "cell_type": "code",
      "source": [
        "class Student:\n",
        "    def __init__(self,name,roll_no):\n",
        "        self.name = name\n",
        "        self.roll_no = roll_no\n",
        "    def student_info(self):\n",
        "        print(f\"name: {self.name},Roll No:{self.roll_no}\")\n",
        "\n",
        "# Creating objects\n",
        "s1 = Student(\"Srivani\", 40)\n",
        "s2 = Student(\"Aruna\", 26)\n",
        "\n",
        "# Using object methods\n",
        "s1.student_info()\n",
        "s2.student_info()"
      ],
      "metadata": {
        "colab": {
          "base_uri": "https://localhost:8080/"
        },
        "id": "u8FmDrWuba_U",
        "outputId": "27a34a47-c458-4082-9059-a06402a93e55"
      },
      "execution_count": 11,
      "outputs": [
        {
          "output_type": "stream",
          "name": "stdout",
          "text": [
            "name: Srivani,Roll No:40\n",
            "name: Aruna,Roll No:26\n"
          ]
        }
      ]
    },
    {
      "cell_type": "markdown",
      "source": [
        "Here:\n",
        "\n",
        "s1 and s2 are objects of the Student class.\n",
        "\n",
        "Each object stores its own values for name and roll_no."
      ],
      "metadata": {
        "id": "IzKeiLOYbmbS"
      }
    },
    {
      "cell_type": "markdown",
      "source": [
        "Key Features of an Object:\n",
        "Stores data (attributes).\n",
        "\n",
        "Can perform actions (methods).\n",
        "\n",
        "Can be created multiple times from the same class."
      ],
      "metadata": {
        "id": "chcwrj1qbpF6"
      }
    },
    {
      "cell_type": "markdown",
      "source": [
        "4. What is the difference between abstraction and encapsulation?\n",
        "\n",
        "\n",
        "Both abstraction and encapsulation are core OOP concepts, but they serve different purposes.\n",
        "Definition :\n",
        "-> Abstraction : Hiding complex implementation details and showing only essential features\n",
        "-> Encapsulation: Wrapping data and methods into a single unit and restricting direct access\n",
        "Purpose :\n",
        "-> Abstraction : To focus on what an object does\n",
        "-> Encapsulation: To control how data is accessed or modified\n",
        "Hides :\n",
        "-> Abstraction : Implementation complexity\n",
        "-> Encapsulation: Internal object state (data)\n",
        "Achieved By :\n",
        "-> Abstraction : Abstract classes and interfaces\n",
        "-> Encapsulation: Access modifiers (public, private), getters/setters"
      ],
      "metadata": {
        "id": "ElmnMOImbtRy"
      }
    },
    {
      "cell_type": "markdown",
      "source": [
        "Real-World Example :\n",
        "-> Abstraction : Driving a car without knowing how the engine works\n",
        "-> Encapsulation: Car dashboard prevents direct access to engine internals"
      ],
      "metadata": {
        "id": "Zp0AI4NzbyMz"
      }
    },
    {
      "cell_type": "markdown",
      "source": [
        "Example in Python :\n",
        "Abstraction: Using ABC (Abstract Base Class):"
      ],
      "metadata": {
        "id": "ec49FOVmby2d"
      }
    },
    {
      "cell_type": "code",
      "source": [
        "from abc import ABC,abstractmethod\n",
        "\n",
        "class Animal(ABC):\n",
        "    @abstractmethod\n",
        "    def make_soundnoise(self):\n",
        "        pass\n",
        "class dog(Animal):\n",
        "    def make_soundnoise(self):\n",
        "        print(\"bark\")"
      ],
      "metadata": {
        "id": "ifcsRlUQb4LT"
      },
      "execution_count": 12,
      "outputs": []
    },
    {
      "cell_type": "code",
      "source": [
        "d = dog()"
      ],
      "metadata": {
        "id": "qSUYNURdb6di"
      },
      "execution_count": 13,
      "outputs": []
    },
    {
      "cell_type": "code",
      "source": [
        "d.make_soundnoise()"
      ],
      "metadata": {
        "colab": {
          "base_uri": "https://localhost:8080/"
        },
        "id": "9SO-Rwe7b9Or",
        "outputId": "3660f7dc-5130-4910-f531-7f91a890563b"
      },
      "execution_count": 14,
      "outputs": [
        {
          "output_type": "stream",
          "name": "stdout",
          "text": [
            "bark\n"
          ]
        }
      ]
    },
    {
      "cell_type": "markdown",
      "source": [
        "Encapsulation:"
      ],
      "metadata": {
        "id": "2_wmb6ZMcB9B"
      }
    },
    {
      "cell_type": "code",
      "source": [
        "class bankaccount:\n",
        "    def __init__(self,balance):\n",
        "        self.__balance = balance\n",
        "    def withdraw(self,amount):\n",
        "        if amount > 0:\n",
        "            self.__balance = self.__balance - amount\n",
        "    def deposite(self,amount):\n",
        "        if amount > 0:\n",
        "            self.__balance = self.__balance + amount\n",
        "    def get_balance(self):\n",
        "        return self.__balance"
      ],
      "metadata": {
        "id": "ioaGTmv6cCm6"
      },
      "execution_count": 15,
      "outputs": []
    },
    {
      "cell_type": "code",
      "source": [
        "acc = bankaccount(1500)"
      ],
      "metadata": {
        "id": "4wa8PzklcIwy"
      },
      "execution_count": 16,
      "outputs": []
    },
    {
      "cell_type": "code",
      "source": [
        "acc.get_balance()"
      ],
      "metadata": {
        "colab": {
          "base_uri": "https://localhost:8080/"
        },
        "id": "nZBP1g9jcK1C",
        "outputId": "c119eb70-cc5c-4fef-d92b-8dacc1d3b01e"
      },
      "execution_count": 17,
      "outputs": [
        {
          "output_type": "execute_result",
          "data": {
            "text/plain": [
              "1500"
            ]
          },
          "metadata": {},
          "execution_count": 17
        }
      ]
    },
    {
      "cell_type": "code",
      "source": [
        "acc.deposite(500)"
      ],
      "metadata": {
        "id": "cM78VQzVcOfi"
      },
      "execution_count": 18,
      "outputs": []
    },
    {
      "cell_type": "code",
      "source": [
        "acc.get_balance()"
      ],
      "metadata": {
        "colab": {
          "base_uri": "https://localhost:8080/"
        },
        "id": "lNW3Rd6WcQxE",
        "outputId": "c73a69bb-6a37-4f73-c324-05437eed481a"
      },
      "execution_count": 19,
      "outputs": [
        {
          "output_type": "execute_result",
          "data": {
            "text/plain": [
              "2000"
            ]
          },
          "metadata": {},
          "execution_count": 19
        }
      ]
    },
    {
      "cell_type": "code",
      "source": [
        "acc.withdraw(1999)"
      ],
      "metadata": {
        "id": "aX6mmrvmcTT6"
      },
      "execution_count": 20,
      "outputs": []
    },
    {
      "cell_type": "code",
      "source": [
        "acc.get_balance()"
      ],
      "metadata": {
        "colab": {
          "base_uri": "https://localhost:8080/"
        },
        "id": "C-nHV5kzcV4K",
        "outputId": "db4e9a4c-33bb-4226-b810-f6e0b1ac5215"
      },
      "execution_count": 21,
      "outputs": [
        {
          "output_type": "execute_result",
          "data": {
            "text/plain": [
              "1"
            ]
          },
          "metadata": {},
          "execution_count": 21
        }
      ]
    },
    {
      "cell_type": "markdown",
      "source": [
        "Abstraction = Hiding complexity → Focus on what the object does.\n",
        "\n",
        "Encapsulation = Hiding data → Control how the object works internally."
      ],
      "metadata": {
        "id": "YSVq9XhMccjR"
      }
    },
    {
      "cell_type": "markdown",
      "source": [
        "5. What are dunder methods in Python?\n",
        "\n",
        "\n",
        "Dunder methods (short for “double underscore” methods) are special built-in methods in Python that start and end with two underscores, like init, str, len, etc.\n",
        "Definition:\n",
        "Dunder methods let you customize the behavior of your objects when using Python’s built-in functions or operators.\n",
        "Why Use Them?\n",
        "They help you:\n",
        "\n",
        "Initialize objects __ init __\n",
        "\n",
        "Print objects nicely __ str __\n",
        "\n",
        "Compare objects ___ eq ___, __ lt __\n",
        "\n",
        "Add custom behavior to operators (+, -, *, etc. via __ add __, __ sub __)\n",
        "\n",
        "Control length, representation, etc."
      ],
      "metadata": {
        "id": "2jje36Nycgp5"
      }
    },
    {
      "cell_type": "markdown",
      "source": [
        "Common Dunder Methods (with Examples)\n",
        "__ init __: Constructor (used to initialize an object)"
      ],
      "metadata": {
        "id": "S2MkUlsacjwK"
      }
    },
    {
      "cell_type": "code",
      "source": [
        "class Person:\n",
        "    def __init__(self, name):\n",
        "        self.name = name\n",
        "\n",
        "p = Person(\"Srivani\")"
      ],
      "metadata": {
        "id": "xlQlMxPncmU6"
      },
      "execution_count": 22,
      "outputs": []
    },
    {
      "cell_type": "markdown",
      "source": [
        "__ str __: String representation (used when you print() the object)"
      ],
      "metadata": {
        "id": "Ul_3tsY8cr8a"
      }
    },
    {
      "cell_type": "code",
      "source": [
        "class person:\n",
        "    def __init__(self,name):\n",
        "        self.name = name\n",
        "    def __str__(self):\n",
        "         return (f\"person : {self.name}\")\n",
        "\n",
        "p = person(\"Srivani\")\n",
        "print(p)"
      ],
      "metadata": {
        "colab": {
          "base_uri": "https://localhost:8080/"
        },
        "id": "0QJ2BDR-c1CS",
        "outputId": "9a47961a-a911-40b4-bb75-5de017f7434f"
      },
      "execution_count": 23,
      "outputs": [
        {
          "output_type": "stream",
          "name": "stdout",
          "text": [
            "person : Srivani\n"
          ]
        }
      ]
    },
    {
      "cell_type": "markdown",
      "source": [
        "__ len __: Used by the len() function"
      ],
      "metadata": {
        "id": "1fZ-LItFc7dK"
      }
    },
    {
      "cell_type": "code",
      "source": [
        "class mylist:\n",
        "    def __init__(self,data):\n",
        "        self.data=data\n",
        "    def __len__(self):\n",
        "        return len(self.data)\n",
        "l = mylist([1,2,3,4])\n",
        "print(len(l))"
      ],
      "metadata": {
        "colab": {
          "base_uri": "https://localhost:8080/"
        },
        "id": "0XA0RNtFc9Ss",
        "outputId": "e63b3c80-773c-49c8-e262-0d84147bb8a2"
      },
      "execution_count": 24,
      "outputs": [
        {
          "output_type": "stream",
          "name": "stdout",
          "text": [
            "4\n"
          ]
        }
      ]
    },
    {
      "cell_type": "markdown",
      "source": [
        "'''\n",
        "Dunder Method\t        Purpose\t                  Example Use\n",
        "__init__\t        Initializes a new object\t  p = Person(\"A\")\n",
        "__str__\t            User-friendly string output\t  print(obj)\n",
        "__len__\t            Returns length\t              len(obj)\n",
        "__add__\t            Adds two objects\t          obj1 + obj2\n",
        "__eq__\t            Checks equality\t               obj1 == obj2\n",
        "'''"
      ],
      "metadata": {
        "id": "bsUPuw_edCv6"
      }
    },
    {
      "cell_type": "markdown",
      "source": [
        "6. Explain the concept of inheritance in OOP.\n",
        "\n",
        "\n",
        "Inheritance is one of the core concepts of OOP. It allows a class (called the child class or subclass) to inherit attributes and methods from another class (called the parent class or superclass).\n",
        "Why Use Inheritance?\n",
        "To reuse existing code (avoid duplication)\n",
        "\n",
        "To create a hierarchical structure (like a family tree of classes)\n",
        "\n",
        "To extend or modify behavior of the parent class without changing it"
      ],
      "metadata": {
        "id": "DS0FRjmWdFsD"
      }
    },
    {
      "cell_type": "markdown",
      "source": [
        "Basic Syntax:"
      ],
      "metadata": {
        "id": "wAahtcXJdKny"
      }
    },
    {
      "cell_type": "code",
      "source": [
        "class parent:\n",
        "    def greet(self):\n",
        "        print(\"hello from parent\")\n",
        "\n",
        "class child(parent):\n",
        "    def speak(self):\n",
        "        print(\"i am child\")\n",
        "\n",
        "c = child()\n",
        "c.greet() # Inherited from Parent\n",
        "c.speak() # Defined in Child"
      ],
      "metadata": {
        "id": "v5dV3_htdNVi"
      },
      "execution_count": null,
      "outputs": []
    },
    {
      "cell_type": "markdown",
      "source": [
        "Example: Animal Inheritance"
      ],
      "metadata": {
        "id": "jzNyXYn3dQhC"
      }
    },
    {
      "cell_type": "code",
      "source": [
        "class Animal:\n",
        "    def sound(self):\n",
        "        print(\"This animal makes a sound\")\n",
        "\n",
        "class Dog(Animal):\n",
        "    def sound(self):\n",
        "        print(\"Bark!\")\n",
        "\n",
        "class Cat(Animal):\n",
        "    def sound(self):\n",
        "        print(\"Meow!\")\n",
        "\n",
        "d = Dog()\n",
        "c = Cat()\n",
        "\n",
        "d.sound()\n",
        "c.sound()"
      ],
      "metadata": {
        "colab": {
          "base_uri": "https://localhost:8080/"
        },
        "id": "nqYYaaAadSyy",
        "outputId": "3a831ed4-78d6-4924-d6f1-a367ffeedb17"
      },
      "execution_count": 25,
      "outputs": [
        {
          "output_type": "stream",
          "name": "stdout",
          "text": [
            "Bark!\n",
            "Meow!\n"
          ]
        }
      ]
    },
    {
      "cell_type": "markdown",
      "source": [
        "Here, Dog and Cat inherit from Animal, but also override its sound() method. This is an example of method overriding."
      ],
      "metadata": {
        "id": "faOVHnY9dXFK"
      }
    },
    {
      "cell_type": "markdown",
      "source": [
        "Types of Inheritance in Python:-->\n",
        "\n",
        "Single Inheritance – One parent, one child.\n",
        "\n",
        "Multiple Inheritance – Child inherits from multiple parents.\n",
        "\n",
        "Multilevel Inheritance – Child of a child class.\n",
        "\n",
        "Hierarchical Inheritance – Multiple children from one parent.\n",
        "\n",
        "Hybrid Inheritance – Combination of types."
      ],
      "metadata": {
        "id": "RhfyRWKGda_C"
      }
    },
    {
      "cell_type": "markdown",
      "source": [
        "7. What is polymorphism in OOP?\n",
        "\n",
        "\n",
        "Polymorphism means “many forms” — and in object-oriented programming, it refers to the ability of different classes to respond to the same method name in different ways.\n",
        "Why Polymorphism?\n",
        "It allows code to be more flexible and reusable\n",
        "\n",
        "You can write code that works on objects of different types without knowing their exact class\n",
        "\n",
        "It supports method overriding and duck typing (common in Python)"
      ],
      "metadata": {
        "id": "R4nj1QKid2TS"
      }
    },
    {
      "cell_type": "markdown",
      "source": [
        "Example: Polymorphism Using Method Overriding"
      ],
      "metadata": {
        "id": "yxvh8RNvd4z6"
      }
    },
    {
      "cell_type": "code",
      "source": [
        "class Animal:\n",
        "    def speak(self):\n",
        "        print(\"The animal make sound\")\n",
        "class Dog(Animal):\n",
        "    def speak(self):\n",
        "        print(\"Bark\")\n",
        "class Cat(Animal):\n",
        "    def speak(self):\n",
        "        print(\"Meow\")\n",
        "\n",
        "def make_sound(animal):  # Polymorphic behavior\n",
        "    animal.speak()\n",
        "\n",
        "d = Dog()\n",
        "c = Cat()\n",
        "\n",
        "make_sound(d)\n",
        "make_sound(c)"
      ],
      "metadata": {
        "colab": {
          "base_uri": "https://localhost:8080/"
        },
        "id": "BJbj25Apd67C",
        "outputId": "a53b35cd-ced7-4647-f6cd-8a129185d3cc"
      },
      "execution_count": 26,
      "outputs": [
        {
          "output_type": "stream",
          "name": "stdout",
          "text": [
            "Bark\n",
            "Meow\n"
          ]
        }
      ]
    },
    {
      "cell_type": "markdown",
      "source": [
        "Even though make_sound() calls the same speak() method, it behaves differently depending on the object passed — that's runtime polymorphism."
      ],
      "metadata": {
        "id": "OQK7ypMgd93y"
      }
    },
    {
      "cell_type": "markdown",
      "source": [
        "Two Types of Polymorphism in Python:"
      ],
      "metadata": {
        "id": "Sc1Cm3QheFmK"
      }
    },
    {
      "cell_type": "markdown",
      "source": [
        "'''\n",
        "Type\t                  Description\t                                                    Example\n",
        "Compile-time\t          Not applicable to Python (since it's dynamically typed)\t        Not used in Python\n",
        "Runtime\t                  Python uses method overriding and duck typing for polymorphism\tobject.speak() behaves differently for each subclass\n",
        "'''"
      ],
      "metadata": {
        "id": "0rPIQmOOeI_6"
      }
    },
    {
      "cell_type": "markdown",
      "source": [
        "Duck Typing in Python"
      ],
      "metadata": {
        "id": "r8Nhh6l5eMlC"
      }
    },
    {
      "cell_type": "markdown",
      "source": [
        "Python follows duck typing:\n",
        "\n",
        "“If it walks like a duck and quacks like a duck, it’s a duck.”\n",
        "\n",
        "You don’t care what type the object is — as long as it has the method you need."
      ],
      "metadata": {
        "id": "k5aUeDRbeO2S"
      }
    },
    {
      "cell_type": "code",
      "source": [
        "class Bird:\n",
        "    def fly(self):\n",
        "        print(\"Flying in the sky\")\n",
        "\n",
        "class Airplane:\n",
        "    def fly(self):\n",
        "        print(\"Flying through engines\")\n",
        "\n",
        "def take_off(flying_thing):\n",
        "    flying_thing.fly()\n",
        "\n",
        "take_off(Bird())\n",
        "take_off(Airplane())"
      ],
      "metadata": {
        "colab": {
          "base_uri": "https://localhost:8080/"
        },
        "id": "W2uiWBgoeTzL",
        "outputId": "6eb64eb8-b37b-40f3-8cd1-42ff4eb362b4"
      },
      "execution_count": 27,
      "outputs": [
        {
          "output_type": "stream",
          "name": "stdout",
          "text": [
            "Flying in the sky\n",
            "Flying through engines\n"
          ]
        }
      ]
    },
    {
      "cell_type": "markdown",
      "source": [
        "8. How is encapsulation achieved in Python?\n",
        "\n",
        "\n",
        "Encapsulation is the concept of wrapping data (attributes) and methods (functions) that operate on the data into a single unit — i.e., a class — and restricting direct access to some of the object's components.\n",
        "This helps to:\n",
        "\n",
        "Protect internal data\n",
        "\n",
        "Control how data is modified\n",
        "\n",
        "Improve code security and robustness\n",
        "\n",
        "How Encapsulation Works in Python\n",
        "In Python, encapsulation is achieved using:\n",
        "\n",
        "Public members\n",
        "\n",
        "Protected members\n",
        "\n",
        "Private members"
      ],
      "metadata": {
        "id": "oNZWcfxyeYJB"
      }
    },
    {
      "cell_type": "markdown",
      "source": [
        "1. Public Members (name)\n",
        "Accessible from anywhere"
      ],
      "metadata": {
        "id": "_W1AqLlWebrS"
      }
    },
    {
      "cell_type": "code",
      "source": [
        "class Person:\n",
        "    def __init__(self, name):\n",
        "        self.name = name\n",
        "\n",
        "p = Person(\"Srivani\")\n",
        "print(p.name)"
      ],
      "metadata": {
        "colab": {
          "base_uri": "https://localhost:8080/"
        },
        "id": "NDXg0lqCed0L",
        "outputId": "0c72f6e9-fe87-4379-fd21-18a71dafbe33"
      },
      "execution_count": 29,
      "outputs": [
        {
          "output_type": "stream",
          "name": "stdout",
          "text": [
            "Srivani\n"
          ]
        }
      ]
    },
    {
      "cell_type": "markdown",
      "source": [
        "2. Protected Members (_name)\n",
        "Convention: Should not be accessed outside the class/subclass\n",
        "\n",
        "Still accessible, but marked as \"internal use only\""
      ],
      "metadata": {
        "id": "FhaUPMPfekH5"
      }
    },
    {
      "cell_type": "code",
      "source": [
        "class Person:\n",
        "    def __init__(self, name):\n",
        "        self._name = name  # protected\n",
        "\n",
        "p = Person(\"Srivani\")\n",
        "print(p._name)"
      ],
      "metadata": {
        "colab": {
          "base_uri": "https://localhost:8080/"
        },
        "id": "Rant_BR1emkz",
        "outputId": "9900031d-94a7-46f1-bd32-0cec406e8c9d"
      },
      "execution_count": 30,
      "outputs": [
        {
          "output_type": "stream",
          "name": "stdout",
          "text": [
            "Srivani\n"
          ]
        }
      ]
    },
    {
      "cell_type": "markdown",
      "source": [
        "3. Private Members (__name)\n",
        "Name mangled by Python: not directly accessible outside the class\n",
        "\n",
        "Ensures data hiding"
      ],
      "metadata": {
        "id": "c1HQAdq_euc8"
      }
    },
    {
      "cell_type": "code",
      "source": [
        "class Person:\n",
        "    def __init__(self, name):\n",
        "        self.__name = name  # private\n",
        "\n",
        "    def get_name(self):\n",
        "        return self.__name\n",
        "\n",
        "p = Person(\"Srivani\")\n",
        "print(p.get_name())    # Accessed via method\n",
        "# print(p.__name)      # Error: Attribute not found"
      ],
      "metadata": {
        "colab": {
          "base_uri": "https://localhost:8080/"
        },
        "id": "lNRSCHjKe7gK",
        "outputId": "03872bf2-513d-4fef-b2cc-10d0f57c6f88"
      },
      "execution_count": 31,
      "outputs": [
        {
          "output_type": "stream",
          "name": "stdout",
          "text": [
            "Srivani\n"
          ]
        }
      ]
    },
    {
      "cell_type": "markdown",
      "source": [
        "Use getters and setters to access or update private data."
      ],
      "metadata": {
        "id": "B-OO50D-fChh"
      }
    },
    {
      "cell_type": "markdown",
      "source": [
        "Example with Getter and Setter:"
      ],
      "metadata": {
        "id": "oX9fCszPfFOy"
      }
    },
    {
      "cell_type": "code",
      "source": [
        "class Account:\n",
        "    def __init__(self, balance):\n",
        "        self.__balance = balance  # private\n",
        "\n",
        "    def get_balance(self):\n",
        "        return self.__balance\n",
        "\n",
        "    def set_balance(self, amount):\n",
        "        if amount >= 0:\n",
        "            self.__balance = amount\n",
        "\n",
        "acc = Account(1000)\n",
        "print(acc.get_balance())\n",
        "acc.set_balance(2000)\n",
        "print(acc.get_balance())"
      ],
      "metadata": {
        "colab": {
          "base_uri": "https://localhost:8080/"
        },
        "id": "KdtjryGbfHXa",
        "outputId": "476bb93d-b466-4f5f-9472-5f0d93572cea"
      },
      "execution_count": 32,
      "outputs": [
        {
          "output_type": "stream",
          "name": "stdout",
          "text": [
            "1000\n",
            "2000\n"
          ]
        }
      ]
    },
    {
      "cell_type": "markdown",
      "source": [
        "'''\n",
        "Access Level\t  Syntax\t    Accessible From       \tUse For\n",
        "Public\t          self.name\t    Anywhere\t            General use\n",
        "Protected\t      self._name\tClass and subclasses\tInternal use (by convention)\n",
        "Private\t          self.__name\tOnly inside the class\tSensitive data (strict access)\n",
        "'''"
      ],
      "metadata": {
        "id": "XEYROneGfKTK"
      }
    },
    {
      "cell_type": "markdown",
      "source": [
        "9. What is a constructor in Python?\n",
        "\n",
        "\n",
        "A constructor in Python is a special method used to initialize objects when a class is created. It automatically runs when you create an instance (object) of the class.\n",
        "Purpose of a Constructor:\n",
        "Set initial values for object properties (attributes)\n",
        "\n",
        "Perform any setup tasks when the object is created"
      ],
      "metadata": {
        "id": "OpgYp5uNfM5h"
      }
    },
    {
      "cell_type": "markdown",
      "source": [
        "In Python, the constructor is the __ init __() method:"
      ],
      "metadata": {
        "id": "a9DO3urOfPlq"
      }
    },
    {
      "cell_type": "code",
      "source": [
        "class Person:\n",
        "    def __init__(self, name, age):  # constructor\n",
        "        self.name = name\n",
        "        self.age = age\n",
        "\n",
        "p = Person(\"Srivani\", 21)\n",
        "print(p.name)\n",
        "print(p.age)"
      ],
      "metadata": {
        "colab": {
          "base_uri": "https://localhost:8080/"
        },
        "id": "Yw1Iz9aWfRlK",
        "outputId": "c80f43df-753e-4bea-feee-845810d361b6"
      },
      "execution_count": 33,
      "outputs": [
        {
          "output_type": "stream",
          "name": "stdout",
          "text": [
            "Srivani\n",
            "21\n"
          ]
        }
      ]
    },
    {
      "cell_type": "markdown",
      "source": [
        "__ init __ is called automatically when you create an object.\n",
        "\n",
        "The self parameter refers to the current instance of the class.\n",
        "\n",
        "You can pass arguments to set object-specific values."
      ],
      "metadata": {
        "id": "oNWoHyGPfYK6"
      }
    },
    {
      "cell_type": "markdown",
      "source": [
        "Without Constructor:\n",
        "You'd have to assign attributes manually after creating the object:"
      ],
      "metadata": {
        "id": "rs0s2T5NfbO7"
      }
    },
    {
      "cell_type": "code",
      "source": [
        "class Person:\n",
        "    pass\n",
        "\n",
        "p = Person()\n",
        "p.name = \"Vishal\"\n",
        "p.age = 25\n",
        "\n",
        "# This is less safe and less structured than using a constructor."
      ],
      "metadata": {
        "id": "zV8urSFqffEC"
      },
      "execution_count": 34,
      "outputs": []
    },
    {
      "cell_type": "markdown",
      "source": [
        "10. What are class and static methods in Python?\n",
        "In Python, besides regular instance methods, we can define:\n",
        "\n",
        "Class Methods – work with the class itself\n",
        "\n",
        "Static Methods – general utility functions within the class\n",
        "\n",
        "1. Class Method\n",
        "A class method is bound to the class, not the instance. It can access or modify class-level data.\n",
        "\n",
        "Defined using the @classmethod decorator\n",
        "Takes cls as the first parameter (not self)\n"
      ],
      "metadata": {
        "id": "QWaUUxWGfjtj"
      }
    },
    {
      "cell_type": "code",
      "source": [
        "class Student:\n",
        "    school_name = \"ABC School\"\n",
        "    def __init__(self,name):\n",
        "        self.name = name\n",
        "    @classmethod\n",
        "    def get_school_name(cls):\n",
        "        return cls.school_name\n",
        "\n",
        "print(Student.get_school_name())"
      ],
      "metadata": {
        "colab": {
          "base_uri": "https://localhost:8080/"
        },
        "id": "JfHY1iqMfnkS",
        "outputId": "42275d00-2e1a-486b-99fd-4f4389e1964f"
      },
      "execution_count": 35,
      "outputs": [
        {
          "output_type": "stream",
          "name": "stdout",
          "text": [
            "ABC School\n"
          ]
        }
      ]
    },
    {
      "cell_type": "markdown",
      "source": [
        "Use when your method needs to work with class variables or needs to create objects in alternative ways."
      ],
      "metadata": {
        "id": "PywjXR5ofqnB"
      }
    },
    {
      "cell_type": "markdown",
      "source": [
        "2. Static Method\n",
        "A static method is like a regular function, but it's placed inside a class because it has some logical connection to the class.\n",
        "\n",
        "Defined using the @staticmethod decorator\n",
        "Takes no self or cls as the first parameter\n"
      ],
      "metadata": {
        "id": "6g_pMmq_ft5T"
      }
    },
    {
      "cell_type": "code",
      "source": [
        "class MathUtils:\n",
        "    @staticmethod\n",
        "    def add(a, b):\n",
        "        return a + b\n",
        "\n",
        "print(MathUtils.add(3, 5))"
      ],
      "metadata": {
        "colab": {
          "base_uri": "https://localhost:8080/"
        },
        "id": "CVRLdaS-fz1a",
        "outputId": "2bf89027-8dab-46b2-9a9f-0ca40c2f110e"
      },
      "execution_count": 36,
      "outputs": [
        {
          "output_type": "stream",
          "name": "stdout",
          "text": [
            "8\n"
          ]
        }
      ]
    },
    {
      "cell_type": "markdown",
      "source": [
        "Use when your method doesn't need access to instance or class data, but still makes sense to keep it in the class."
      ],
      "metadata": {
        "id": "fjyIy2Ukf2gy"
      }
    },
    {
      "cell_type": "markdown",
      "source": [
        "Key Differences:"
      ],
      "metadata": {
        "id": "qR6RWgZGf5LD"
      }
    },
    {
      "cell_type": "markdown",
      "source": [
        "'''\n",
        "\n",
        "Feature\t           Instance Method\t          Class Method\t                Static Method\n",
        "Bound To\t       Object (self)\t          Class (cls)\t                Neither\n",
        "Access Instance?   Yes\t                      No\t                        No\n",
        "Access Class?\t   Not directly\t              Yes\t                        No\n",
        "Use Case\t       Object-specific behavior\t  Factory methods, class info\tUtility/helper methods\n",
        "Decorator\t       None\t                      @classmethod\t                @staticmethod\n",
        "'''"
      ],
      "metadata": {
        "id": "LwDpjbaxf-56"
      }
    },
    {
      "cell_type": "code",
      "source": [
        "class Demo:\n",
        "    class_var = \"Shared\"\n",
        "\n",
        "    def __init__(self, name):\n",
        "        self.name = name\n",
        "\n",
        "    def instance_method(self):\n",
        "        return f\"Instance: {self.name}\"\n",
        "\n",
        "    @classmethod\n",
        "    def class_method(cls):\n",
        "        return f\"Class: {cls.class_var}\"\n",
        "\n",
        "    @staticmethod\n",
        "    def static_method():\n",
        "        return \"I don't need class or object.\"\n",
        "\n",
        "d = Demo(\"Srivani\")\n",
        "print(d.instance_method())\n",
        "print(Demo.class_method())\n",
        "print(Demo.static_method())"
      ],
      "metadata": {
        "colab": {
          "base_uri": "https://localhost:8080/"
        },
        "id": "PUuEOQLcgEQj",
        "outputId": "e284e66c-fd5c-46ad-c49e-7e7f0c0c8574"
      },
      "execution_count": 38,
      "outputs": [
        {
          "output_type": "stream",
          "name": "stdout",
          "text": [
            "Instance: Srivani\n",
            "Class: Shared\n",
            "I don't need class or object.\n"
          ]
        }
      ]
    },
    {
      "cell_type": "markdown",
      "source": [
        "11. What is method overloading in Python?\n",
        "\n",
        "\n",
        "In Object-Oriented Programming (OOP), method overloading refers to the ability to define multiple methods with the same name but different parameters (like in Java or C++).\n",
        "However, in Python, true method overloading is not directly supported. You can only define one method with a given name per class — the last one overrides the previous."
      ],
      "metadata": {
        "id": "P_tQXlFFgOQS"
      }
    },
    {
      "cell_type": "markdown",
      "source": [
        "Traditional Overloading – Not Supported in Python"
      ],
      "metadata": {
        "id": "V4V7iAJNgREK"
      }
    },
    {
      "cell_type": "code",
      "source": [
        "class Example:\n",
        "    def greet(self):\n",
        "        print(\"Hello\")\n",
        "\n",
        "    def greet(self, name):  # This overwrites the above method\n",
        "        print(f\"Hello, {name}\")\n",
        "\n",
        "e = Example()\n",
        "# e.greet()        Error: missing 1 argument\n",
        "e.greet(\"Srivani\")"
      ],
      "metadata": {
        "colab": {
          "base_uri": "https://localhost:8080/"
        },
        "id": "GDNbjWc_gS9x",
        "outputId": "3d7421e8-5d44-4b28-b210-45a2a29c2215"
      },
      "execution_count": 39,
      "outputs": [
        {
          "output_type": "stream",
          "name": "stdout",
          "text": [
            "Hello, Srivani\n"
          ]
        }
      ]
    },
    {
      "cell_type": "markdown",
      "source": [
        "How to Achieve Overloading in Python (OOP Style)"
      ],
      "metadata": {
        "id": "HhgjI3iegYKC"
      }
    },
    {
      "cell_type": "markdown",
      "source": [
        "Python allows similar behavior using:"
      ],
      "metadata": {
        "id": "DJfjCWj6gbZR"
      }
    },
    {
      "cell_type": "markdown",
      "source": [
        "Default Arguments:"
      ],
      "metadata": {
        "id": "ZvvzxNwIgecL"
      }
    },
    {
      "cell_type": "code",
      "source": [
        "class Greet:\n",
        "    def say_hello(self, name=None):\n",
        "        if name:\n",
        "            print(f\"Hello, {name}\")\n",
        "        else:\n",
        "            print(\"Hello\")\n",
        "\n",
        "g = Greet()\n",
        "g.say_hello()\n",
        "g.say_hello(\"Srivani\")"
      ],
      "metadata": {
        "colab": {
          "base_uri": "https://localhost:8080/"
        },
        "id": "SSGJV6vtghM6",
        "outputId": "41a7d6ca-1d9e-4a7b-b9f7-ca845b2d0f0a"
      },
      "execution_count": 40,
      "outputs": [
        {
          "output_type": "stream",
          "name": "stdout",
          "text": [
            "Hello\n",
            "Hello, Srivani\n"
          ]
        }
      ]
    },
    {
      "cell_type": "markdown",
      "source": [
        "Variable Arguments using *args"
      ],
      "metadata": {
        "id": "LaqNijW2go_i"
      }
    },
    {
      "cell_type": "code",
      "source": [
        "class Calculator:\n",
        "    def add(self, *args):\n",
        "        return sum(args)\n",
        "\n",
        "c = Calculator()\n",
        "print(c.add(2, 3))\n",
        "print(c.add(1, 2, 3, 4))"
      ],
      "metadata": {
        "colab": {
          "base_uri": "https://localhost:8080/"
        },
        "id": "ekZ3nWMHgrBK",
        "outputId": "7d6aa108-166b-440e-90aa-f6f9da7265a6"
      },
      "execution_count": 41,
      "outputs": [
        {
          "output_type": "stream",
          "name": "stdout",
          "text": [
            "5\n",
            "10\n"
          ]
        }
      ]
    },
    {
      "cell_type": "markdown",
      "source": [
        "Why Doesn't Python Support Traditional Overloading?\n",
        "Python is a dynamically typed language, which means:\n",
        "\n",
        "The number and types of arguments are not checked at compile time.\n",
        "\n",
        "Developers typically use flexible argument techniques like *args and default values instead."
      ],
      "metadata": {
        "id": "cTna20gRgujJ"
      }
    },
    {
      "cell_type": "markdown",
      "source": [
        "12. What is method overriding in OOP?\n",
        "Method overriding is an important concept in Object-Oriented Programming (OOP) that allows a child (derived) class to provide a specific implementation of a method that is already defined in its parent (base) class\n",
        "Key Idea:\n",
        "When a subclass overrides a method from the superclass, the subclass version is used — even when called from an object of the subclass."
      ],
      "metadata": {
        "id": "oszR6SvMgx7r"
      }
    },
    {
      "cell_type": "markdown",
      "source": [
        "Example in Python:"
      ],
      "metadata": {
        "id": "Rd5CrKovg0Pk"
      }
    },
    {
      "cell_type": "code",
      "source": [
        "class Animal:\n",
        "    def speak(self):\n",
        "        print(\"Animal makes a sound\")\n",
        "\n",
        "class Dog(Animal):\n",
        "    def speak(self):  # Overriding the parent method\n",
        "        print(\"Dog barks\")\n",
        "\n",
        "d = Dog()\n",
        "d.speak()"
      ],
      "metadata": {
        "colab": {
          "base_uri": "https://localhost:8080/"
        },
        "id": "FAc_4nz9g2a6",
        "outputId": "d7b1922e-eda5-4c69-c647-299a812d3e01"
      },
      "execution_count": 42,
      "outputs": [
        {
          "output_type": "stream",
          "name": "stdout",
          "text": [
            "Dog barks\n"
          ]
        }
      ]
    },
    {
      "cell_type": "markdown",
      "source": [
        "Even though the Animal class has a speak() method, the Dog class overrides it with its own version."
      ],
      "metadata": {
        "id": "rdfPo8rxg6rK"
      }
    },
    {
      "cell_type": "markdown",
      "source": [
        "When to Use Method Overriding?\n",
        "When a child class needs custom behavior for a method inherited from a parent class.\n",
        "\n",
        "Common in implementing polymorphism — same method name behaves differently for different classes."
      ],
      "metadata": {
        "id": "daqJ_y46g8ry"
      }
    },
    {
      "cell_type": "markdown",
      "source": [
        "Using super() to Call Parent’s Method\n",
        "If you want to extend the behavior of the parent’s method instead of completely replacing it, use super():"
      ],
      "metadata": {
        "id": "JUop2Yfig__a"
      }
    },
    {
      "cell_type": "code",
      "source": [
        "class Bird:\n",
        "    def fly(self):\n",
        "        print(\"Bird is flying\")\n",
        "\n",
        "class Eagle(Bird):\n",
        "    def fly(self):\n",
        "        super().fly()  # Call parent method\n",
        "        print(\"Eagle flies high\")\n",
        "\n",
        "e = Eagle()\n",
        "e.fly()"
      ],
      "metadata": {
        "colab": {
          "base_uri": "https://localhost:8080/"
        },
        "id": "uxkvE_SbhCdE",
        "outputId": "baeb0adf-a7c3-4ba7-ed97-c778ea811dc1"
      },
      "execution_count": 43,
      "outputs": [
        {
          "output_type": "stream",
          "name": "stdout",
          "text": [
            "Bird is flying\n",
            "Eagle flies high\n"
          ]
        }
      ]
    },
    {
      "cell_type": "markdown",
      "source": [
        "13. What is a property decorator in Python?\n",
        "\n",
        "\n",
        "In Python, the @property decorator is used to define a method as a read-only attribute. It allows you to access a method like a variable — without using parentheses.\n",
        "Why Use It?\n",
        "To control access to private attributes\n",
        "\n",
        "To make getter/setter logic cleaner\n",
        "\n",
        "To create computed attributes that look like regular variables"
      ],
      "metadata": {
        "id": "k0H-ZrCjhGsa"
      }
    },
    {
      "cell_type": "code",
      "source": [
        "class Circle: #example\n",
        "    def __init__(self, radius):\n",
        "        self._radius = radius\n",
        "\n",
        "    @property\n",
        "    def area(self):\n",
        "        return 3.14 * self._radius ** 2\n",
        "\n",
        "c = Circle(5)\n",
        "print(c.area)  # (no parentheses needed)  #Here, area looks like a variable but works like a method"
      ],
      "metadata": {
        "colab": {
          "base_uri": "https://localhost:8080/"
        },
        "id": "efmfSeuOhKAK",
        "outputId": "c006e610-02d5-459c-f03b-0c46b9390eb7"
      },
      "execution_count": 44,
      "outputs": [
        {
          "output_type": "stream",
          "name": "stdout",
          "text": [
            "78.5\n"
          ]
        }
      ]
    },
    {
      "cell_type": "markdown",
      "source": [
        "Adding Setters and Getters\n",
        "You can also create setters and deleters using:\n",
        "\n",
        "@property – for getter\n",
        "\n",
        "@<property_name>.setter – for setter\n",
        "\n",
        "@<property_name>.deleter – for deleter"
      ],
      "metadata": {
        "id": "3CrQ6PaYhjbC"
      }
    },
    {
      "cell_type": "code",
      "source": [
        "class Person:\n",
        "    def __init__(self, name):\n",
        "        self._name = name\n",
        "\n",
        "    @property\n",
        "    def name(self):\n",
        "        return self._name\n",
        "\n",
        "    @name.setter\n",
        "    def name(self, value):  # Setter\n",
        "        if not value:\n",
        "            raise ValueError(\"Name can't be empty\")\n",
        "        self._name = value\n",
        "\n",
        "p = Person(\"Srivani\")\n",
        "print(p.name)\n",
        "p.name = \"Aruna\"\n",
        "print(p.name)"
      ],
      "metadata": {
        "colab": {
          "base_uri": "https://localhost:8080/"
        },
        "id": "YjLgcnrkhlqK",
        "outputId": "b6f11b9e-2bb0-4062-a338-ee141e8dd067"
      },
      "execution_count": 45,
      "outputs": [
        {
          "output_type": "stream",
          "name": "stdout",
          "text": [
            "Srivani\n",
            "Aruna\n"
          ]
        }
      ]
    },
    {
      "cell_type": "markdown",
      "source": [
        "14. Why is polymorphism important in OOP?\n",
        "\n",
        "\n",
        "Polymorphism is a core concept in Object-Oriented Programming (OOP) that allows objects of different classes to be treated as objects of a common superclass. It enables the same method name to behave differently based on the object calling it."
      ],
      "metadata": {
        "id": "_NFCGPKEhtqv"
      }
    },
    {
      "cell_type": "markdown",
      "source": [
        "Importance of Polymorphism:"
      ],
      "metadata": {
        "id": "lNM0R-TyhwmJ"
      }
    },
    {
      "cell_type": "markdown",
      "source": [
        "1. Code Reusability\n",
        "You can write a single function or method that works for many different types of objects."
      ],
      "metadata": {
        "id": "tRbnTyyshzdy"
      }
    },
    {
      "cell_type": "code",
      "source": [
        "def make_animal_sound(animal):\n",
        "    animal.speak()"
      ],
      "metadata": {
        "id": "8iLcmEUGh4A4"
      },
      "execution_count": 46,
      "outputs": []
    },
    {
      "cell_type": "markdown",
      "source": [
        "You can pass a Dog, Cat, or Cow object to this function, and it will work the same way — calling each animal’s version of speak()."
      ],
      "metadata": {
        "id": "7K0JeesAh7x5"
      }
    },
    {
      "cell_type": "markdown",
      "source": [
        "2. Flexibility & Scalability\n",
        "You can add new classes (like Bird, Lion, etc.) without changing the existing code that uses polymorphic behavior."
      ],
      "metadata": {
        "id": "Amzw8Z92h9zp"
      }
    },
    {
      "cell_type": "markdown",
      "source": [
        "3. Simplifies Code\n",
        "You don’t need long if-else or switch statements to handle different types."
      ],
      "metadata": {
        "id": "ct6oyn6bh_7C"
      }
    },
    {
      "cell_type": "markdown",
      "source": [
        "4. Supports Method Overriding\n",
        "Polymorphism makes method overriding useful — you can call a method on a parent reference, and the child’s version executes."
      ],
      "metadata": {
        "id": "z-r8LnDUiCma"
      }
    },
    {
      "cell_type": "markdown",
      "source": [
        "Real-World Analogy\n",
        "Remote control (interface): One remote can control TV, AC, or Music System — each responds differently, but the interface is the same."
      ],
      "metadata": {
        "id": "Yy3QWt_XiGh5"
      }
    },
    {
      "cell_type": "code",
      "source": [
        "class Bird:\n",
        "    def sound(self):\n",
        "        print(\"Bird chirps\")\n",
        "\n",
        "class Dog:\n",
        "    def sound(self):\n",
        "        print(\"Dog barks\")\n",
        "\n",
        "def make_sound(animal):\n",
        "    animal.sound()\n",
        "\n",
        "make_sound(Bird())\n",
        "make_sound(Dog())"
      ],
      "metadata": {
        "id": "ShGUF227iJY5"
      },
      "execution_count": null,
      "outputs": []
    },
    {
      "cell_type": "markdown",
      "source": [
        "Same function make_sound() — different behavior depending on the object."
      ],
      "metadata": {
        "id": "GUHZhcMCiMQa"
      }
    },
    {
      "cell_type": "markdown",
      "source": [
        "15. What is an abstract class in Python?\n",
        "\n",
        "\n",
        "An abstract class is a class that cannot be instantiated directly. It is designed to be a base class that provides a common interface for its child classes.\n",
        "In Python, abstract classes are defined using the abc module — short for Abstract Base Classes."
      ],
      "metadata": {
        "id": "g7SqJL4yiOkz"
      }
    },
    {
      "cell_type": "markdown",
      "source": [
        "Key Features:\n",
        "Contains one or more abstract methods\n",
        "\n",
        "Abstract methods are declared using the @abstractmethod decorator\n",
        "\n",
        "Meant to be inherited by subclasses that must implement the abstract methods\n",
        "\n",
        "Helps enforce a consistent interface across subclasses"
      ],
      "metadata": {
        "id": "cMoTBZiPiRj8"
      }
    },
    {
      "cell_type": "markdown",
      "source": [
        "How to Create an Abstract Class"
      ],
      "metadata": {
        "id": "M6sdZ8FriUTy"
      }
    },
    {
      "cell_type": "markdown",
      "source": [
        "from abc import ABC, abstractmethod\n",
        "\n",
        "class Animal(ABC):  \n",
        "    @abstractmethod\n",
        "    def make_sound(self):\n",
        "        pass"
      ],
      "metadata": {
        "id": "PmfyuxSSiZna"
      }
    },
    {
      "cell_type": "markdown",
      "source": [
        "You cannot create an object of Animal directly because it contains an abstract method."
      ],
      "metadata": {
        "id": "-0489MtQicMp"
      }
    },
    {
      "cell_type": "markdown",
      "source": [
        "Implementing an Abstract Class"
      ],
      "metadata": {
        "id": "SMN1ya5DieQy"
      }
    },
    {
      "cell_type": "code",
      "source": [
        "class Dog(Animal):\n",
        "    def make_sound(self):\n",
        "        print(\"Bark\")\n",
        "\n",
        "d = Dog()\n",
        "d.make_sound()\n",
        "\n",
        "# If a subclass does not implement all abstract methods, Python will raise an error."
      ],
      "metadata": {
        "colab": {
          "base_uri": "https://localhost:8080/"
        },
        "id": "1DE0DmXpihZ6",
        "outputId": "cb3eff69-f69d-4f2f-f384-b3c3770fe61a"
      },
      "execution_count": 47,
      "outputs": [
        {
          "output_type": "stream",
          "name": "stdout",
          "text": [
            "Bark\n"
          ]
        }
      ]
    },
    {
      "cell_type": "markdown",
      "source": [
        "Why Use Abstract Classes?"
      ],
      "metadata": {
        "id": "Z5HjZFPzilL5"
      }
    },
    {
      "cell_type": "markdown",
      "source": [
        "'''\n",
        "Purpose\t                       Description\n",
        "Define common structure\t       Force child classes to implement certain methods\n",
        "Prevent instantiation\t       Stop direct creation of generic base class objects\n",
        "Support polymorphism\t       Enable calling subclass methods through a base class reference\n",
        "'''"
      ],
      "metadata": {
        "id": "KpRasVj8il-J"
      }
    },
    {
      "cell_type": "markdown",
      "source": [
        "Real-World Analogy\n",
        "An abstract class is like a template — e.g., a Vehicle class that defines start() and stop() methods, but the actual behavior is implemented by Car, Bike, or Bus."
      ],
      "metadata": {
        "id": "Oo5jjyfOipxb"
      }
    },
    {
      "cell_type": "markdown",
      "source": [
        "16. What are the advantages of OOP?\n",
        "Object-Oriented Programming (OOP) is a programming paradigm based on the concept of \"objects\", which combine data (attributes) and functions (methods) into a single unit."
      ],
      "metadata": {
        "id": "1yRyXjoeiyTA"
      }
    },
    {
      "cell_type": "markdown",
      "source": [
        "1. Modularity\n",
        "Code is organized into classes and objects, making it modular and easy to manage.\n",
        "\n",
        "Each class can be developed, tested, and maintained independently."
      ],
      "metadata": {
        "id": "VUULoWOii1jj"
      }
    },
    {
      "cell_type": "markdown",
      "source": [
        "2. Reusability\n",
        "Using inheritance, you can reuse existing code in new classes without rewriting it.\n",
        "\n",
        "Promotes DRY (Don't Repeat Yourself) principle."
      ],
      "metadata": {
        "id": "u1-eNn8Ri6RF"
      }
    },
    {
      "cell_type": "markdown",
      "source": [
        "3. Encapsulation\n",
        "Bundles data and methods inside classes.\n",
        "\n",
        "Protects internal state using private variables and property decorators.\n",
        "\n",
        "Makes the system more secure and maintainable."
      ],
      "metadata": {
        "id": "2VX3yQBsi9TS"
      }
    },
    {
      "cell_type": "markdown",
      "source": [
        "4. Abstraction\n",
        "Hides complex implementation details from the user.\n",
        "\n",
        "Allows the user to focus on what the object does, not how it does it."
      ],
      "metadata": {
        "id": "ncIwBDoyi_iB"
      }
    },
    {
      "cell_type": "markdown",
      "source": [
        "5. Polymorphism\n",
        "Enables objects to be treated as instances of their parent class.\n",
        "\n",
        "Simplifies code by allowing the same interface for different types (e.g., animal.speak() works for Dog, Cat, etc.)"
      ],
      "metadata": {
        "id": "WvYDvZI9jCjL"
      }
    },
    {
      "cell_type": "markdown",
      "source": [
        "6. Scalability and Maintainability\n",
        "OOP makes large applications easier to scale and maintain.\n",
        "\n",
        "Easier to update or modify one class without affecting others."
      ],
      "metadata": {
        "id": "H_EDBXCljE3w"
      }
    },
    {
      "cell_type": "markdown",
      "source": [
        "7. Real-world Mapping\n",
        "OOP mirrors the way we think about real-world things — as objects with properties and behaviors.\n",
        "\n",
        "Improves understanding and problem-solving."
      ],
      "metadata": {
        "id": "GBz6RnkNjHRh"
      }
    },
    {
      "cell_type": "markdown",
      "source": [
        "17. What is the difference between a class variable and an instance variable?"
      ],
      "metadata": {
        "id": "SLWbINO8jMex"
      }
    },
    {
      "cell_type": "markdown",
      "source": [
        "In Python's object-oriented programming, class variables and instance variables are used to store data, but they serve different purposes."
      ],
      "metadata": {
        "id": "RFTucB7tjOzx"
      }
    },
    {
      "cell_type": "markdown",
      "source": [
        "Class Variable:\n",
        "A variable that is shared by all instances of a class.\n",
        "\n",
        "Defined inside the class, but outside any method.\n",
        "\n",
        "Used when the value should be common for all objects of that class."
      ],
      "metadata": {
        "id": "fHDu-gAejRKq"
      }
    },
    {
      "cell_type": "markdown",
      "source": [
        "Instance Variable:\n",
        "A variable that is unique to each object (instance).\n",
        "\n",
        "Defined using self.variable_name inside the constructor (__ init __) or other instance methods.\n",
        "\n",
        "Used when each object needs to store its own data."
      ],
      "metadata": {
        "id": "AuKKGn9SjTmA"
      }
    },
    {
      "cell_type": "code",
      "source": [
        "#Example:\n",
        "class Student:\n",
        "    school_name = \"MMCC High School\"  # Class variable\n",
        "\n",
        "    def __init__(self, name, grade):\n",
        "        self.name = name            # Instance variable\n",
        "        self.grade = grade          # Instance variable\n",
        "\n",
        "# Creating two student objects\n",
        "s1 = Student(\"Srivani\", \"A\")\n",
        "s2 = Student(\"Aruna\", \"A+\")\n",
        "\n",
        "# Accessing class and instance variables\n",
        "print(s1.school_name)\n",
        "print(s2.school_name)\n",
        "\n",
        "print(s1.name)\n",
        "print(s2.name)"
      ],
      "metadata": {
        "colab": {
          "base_uri": "https://localhost:8080/"
        },
        "id": "NUBYf6uijXCZ",
        "outputId": "358968a9-53a6-433b-e1ff-671b1c10d425"
      },
      "execution_count": 48,
      "outputs": [
        {
          "output_type": "stream",
          "name": "stdout",
          "text": [
            "MMCC High School\n",
            "MMCC High School\n",
            "Srivani\n",
            "Aruna\n"
          ]
        }
      ]
    },
    {
      "cell_type": "markdown",
      "source": [
        "Use class variables for constants or shared data (e.g., company name, tax rate).\n",
        "\n",
        "Use instance variables for object-specific data (e.g., name, salary, marks)."
      ],
      "metadata": {
        "id": "zABm6YODjviy"
      }
    },
    {
      "cell_type": "markdown",
      "source": [
        "18. What is multiple inheritance in Python?\n",
        "\n",
        "\n",
        "Multiple inheritance is a feature in Python where a class can inherit attributes and methods from more than one parent class.\n",
        "This allows a child class to combine functionality from multiple classes, making code more flexible and reusable."
      ],
      "metadata": {
        "id": "qdvgOhurj_2C"
      }
    },
    {
      "cell_type": "markdown",
      "source": [
        "Syntax:\n",
        "class Parent1:\n",
        "\n",
        "class Parent2:\n",
        "\n",
        "class Child(Parent1, Parent2):"
      ],
      "metadata": {
        "id": "5MkpbpsWkClK"
      }
    },
    {
      "cell_type": "code",
      "source": [
        "class Engine:\n",
        "    def start_engine(self):\n",
        "        print(\"Engine started.\")\n",
        "\n",
        "class Radio:\n",
        "    def play_music(self):\n",
        "        print(\"Playing music.\")\n",
        "\n",
        "class Car(Engine, Radio):\n",
        "    def drive(self):\n",
        "        print(\"Car is driving.\")\n",
        "\n",
        "\n",
        "my_car = Car()\n",
        "my_car.start_engine()   # Inherited from Engine\n",
        "my_car.play_music()     # Inherited from Radio\n",
        "my_car.drive()          # Defined in Car"
      ],
      "metadata": {
        "colab": {
          "base_uri": "https://localhost:8080/"
        },
        "id": "GRNMqzP7kFWq",
        "outputId": "a6243120-9fba-4be9-c505-c1421d8e26bc"
      },
      "execution_count": 49,
      "outputs": [
        {
          "output_type": "stream",
          "name": "stdout",
          "text": [
            "Engine started.\n",
            "Playing music.\n",
            "Car is driving.\n"
          ]
        }
      ]
    },
    {
      "cell_type": "markdown",
      "source": [
        "The child class Car inherits methods from both Engine and Radio."
      ],
      "metadata": {
        "id": "mog1V0vqkJAr"
      }
    },
    {
      "cell_type": "markdown",
      "source": [
        "19. Explain the purpose of ‘’__ str __ ’ and ‘__ repr __’ ‘ methods in Python.\n",
        "In Python, __ str __ and __ repr __ are special (dunder) methods used to define how an object should be represented as a string. They’re extremely useful for debugging and displaying objects."
      ],
      "metadata": {
        "id": "92bOkFN_kLuR"
      }
    },
    {
      "cell_type": "markdown",
      "source": [
        "__ str __() → User-Friendly String Representation"
      ],
      "metadata": {
        "id": "HpWGsZRrkQBR"
      }
    },
    {
      "cell_type": "markdown",
      "source": [
        "Used when you call print(object) or str(object).\n",
        "\n",
        "Intended for end users.\n",
        "\n",
        "Should return a readable and clear description of the object."
      ],
      "metadata": {
        "id": "KUTld9YYkSSJ"
      }
    },
    {
      "cell_type": "code",
      "source": [
        "class Person:\n",
        "    def __init__(self, name):\n",
        "        self.name = name\n",
        "\n",
        "    def __str__(self):\n",
        "        return f\"Person: {self.name}\"\n",
        "\n",
        "p = Person(\"Srivani\")\n",
        "print(p)"
      ],
      "metadata": {
        "colab": {
          "base_uri": "https://localhost:8080/"
        },
        "id": "XWE70r8ikZLw",
        "outputId": "a0001a10-4d7a-4897-a62a-844581f23bf0"
      },
      "execution_count": 50,
      "outputs": [
        {
          "output_type": "stream",
          "name": "stdout",
          "text": [
            "Person: Srivani\n"
          ]
        }
      ]
    },
    {
      "cell_type": "markdown",
      "source": [
        "__ repr __() → Developer-Friendly String Representation"
      ],
      "metadata": {
        "id": "Dd_f7pt3kbtj"
      }
    },
    {
      "cell_type": "markdown",
      "source": [
        "Called when you use repr(object) or in interactive sessions (e.g., Jupyter Notebook).\n",
        "\n",
        "Intended for developers.\n",
        "\n",
        "Should return a string that can be used to recreate the object, if possible."
      ],
      "metadata": {
        "id": "QfL80hbvkd75"
      }
    },
    {
      "cell_type": "code",
      "source": [
        "class Person:\n",
        "    def __init__(self, name):\n",
        "        self.name = name\n",
        "\n",
        "    def __repr__(self):\n",
        "        return f\"Person('{self.name}')\"\n",
        "\n",
        "p = Person(\"Srivani\")\n",
        "print(repr(p))"
      ],
      "metadata": {
        "colab": {
          "base_uri": "https://localhost:8080/"
        },
        "id": "W45CCz3fkgWo",
        "outputId": "5d080006-a17a-4e15-a217-12efa26ed7d1"
      },
      "execution_count": 51,
      "outputs": [
        {
          "output_type": "stream",
          "name": "stdout",
          "text": [
            "Person('Srivani')\n"
          ]
        }
      ]
    },
    {
      "cell_type": "markdown",
      "source": [
        "Use __ str __() to make your objects readable to users.\n",
        "\n",
        "Use __ repr __() to give an unambiguous, developer-focused representation."
      ],
      "metadata": {
        "id": "3G0t87DGkmFs"
      }
    },
    {
      "cell_type": "markdown",
      "source": [
        "20. What is the significance of the ‘super()’ function in Python?\n",
        "\n",
        "\n",
        "The super() function in Python is used to call methods from a parent (or superclass) inside a child (subclass). It allows you to reuse the code in the parent class without hardcoding the parent’s name, and is especially useful in inheritance and method overriding."
      ],
      "metadata": {
        "id": "LVyejKrAkoRR"
      }
    },
    {
      "cell_type": "markdown",
      "source": [
        "Purpose of super():"
      ],
      "metadata": {
        "id": "ChYwp6g3kqbJ"
      }
    },
    {
      "cell_type": "markdown",
      "source": [
        "Access the parent class’s methods and properties.\n",
        "\n",
        "Avoid duplicating code.\n",
        "\n",
        "Maintain cleaner and more maintainable inheritance hierarchies.\n",
        "\n",
        "Support multiple inheritance through Python’s Method Resolution Order (MRO)."
      ],
      "metadata": {
        "id": "mHhFvZ14ksmj"
      }
    },
    {
      "cell_type": "code",
      "source": [
        "class Animal:\n",
        "    def __init__(self, name):\n",
        "        self.name = name\n",
        "    def speak(self):\n",
        "        return f\"{self.name} Make a sound.\"\n",
        "\n",
        "class Dog(Animal):\n",
        "    def __init__(self, name, breed):\n",
        "        super().__init__(name)\n",
        "        self.breed = breed\n",
        "    def speak(self):\n",
        "        parent_sound = super().speak()\n",
        "        return f\"{parent_sound} {self.name} barks\"\n",
        "d = Dog(\"bruno\",\"German shephard\")\n",
        "print(d.speak())"
      ],
      "metadata": {
        "colab": {
          "base_uri": "https://localhost:8080/"
        },
        "id": "Sgd2_NBwkvHx",
        "outputId": "9b87f3fa-5c50-4a30-8338-ead7b4948f1e"
      },
      "execution_count": 52,
      "outputs": [
        {
          "output_type": "stream",
          "name": "stdout",
          "text": [
            "bruno Make a sound. bruno barks\n"
          ]
        }
      ]
    },
    {
      "cell_type": "markdown",
      "source": [
        "21. What is the significance of the del method in Python?\n",
        "\n",
        "\n",
        "The __ del __() method is a special method (also called a dunder method) that acts as a destructor."
      ],
      "metadata": {
        "id": "fYknPjsxk0MK"
      }
    },
    {
      "cell_type": "code",
      "source": [
        "def __del__(self):\n",
        "    # cleanup code here"
      ],
      "metadata": {
        "id": "XjWngCg1k59h"
      },
      "execution_count": null,
      "outputs": []
    },
    {
      "cell_type": "markdown",
      "source": [
        "What does it do?\n",
        "It's called automatically when an object is about to be destroyed (i.e., deleted from memory).\n",
        "\n",
        "It’s typically used for cleanup actions like:\n",
        "\n",
        "Closing a file\n",
        "\n",
        "Releasing a network connection\n",
        "\n",
        "Deleting temporary data"
      ],
      "metadata": {
        "id": "O2HS9N1Mk9YC"
      }
    },
    {
      "cell_type": "markdown",
      "source": [
        "When is it triggered?\n",
        "You use del object_name\n",
        "\n",
        "Or Python’s garbage collector deletes an object that’s no longer used"
      ],
      "metadata": {
        "id": "kJgOFbwalIWx"
      }
    },
    {
      "cell_type": "code",
      "source": [
        "class FileHandler:\n",
        "    def __init__(self, filename):\n",
        "        self.filename = filename\n",
        "        print(f\"Opening file: {self.filename}\")\n",
        "\n",
        "    def __del__(self):\n",
        "        print(f\"Closing file: {self.filename}\")\n",
        "\n",
        "f = FileHandler(\"data.txt\")"
      ],
      "metadata": {
        "colab": {
          "base_uri": "https://localhost:8080/"
        },
        "id": "RIjTNJLHlMo5",
        "outputId": "ff862931-23d2-40d8-a24e-fad1e1948311"
      },
      "execution_count": 93,
      "outputs": [
        {
          "output_type": "stream",
          "name": "stdout",
          "text": [
            "Opening file: data.txt\n"
          ]
        }
      ]
    },
    {
      "cell_type": "code",
      "source": [
        "print(f)"
      ],
      "metadata": {
        "colab": {
          "base_uri": "https://localhost:8080/"
        },
        "id": "ZlLn7BGnlYVx",
        "outputId": "3d5ca278-8e52-42d7-8415-51eadd67689d"
      },
      "execution_count": 54,
      "outputs": [
        {
          "output_type": "stream",
          "name": "stdout",
          "text": [
            "<__main__.FileHandler object at 0x7bc9e2a26790>\n"
          ]
        }
      ]
    },
    {
      "cell_type": "markdown",
      "source": [
        "22. What is the difference between @staticmethod and @classmethod in Python?"
      ],
      "metadata": {
        "id": "xGrwULoelsOB"
      }
    },
    {
      "cell_type": "markdown",
      "source": [
        "Both are decorators used to define methods that are not regular instance methods, but they behave differently."
      ],
      "metadata": {
        "id": "7tjMYmV5lvxR"
      }
    },
    {
      "cell_type": "markdown",
      "source": [
        "1. @staticmethod\n",
        "Does not take self or cls as the first parameter.\n",
        "\n",
        "It doesn’t access or modify class or instance attributes.\n",
        "\n",
        "Used for utility/helper functions that are related to the class but don’t need access to the instance (self) or the class (cls)."
      ],
      "metadata": {
        "id": "S9YWiLAxlyc5"
      }
    },
    {
      "cell_type": "code",
      "source": [
        "class Math:\n",
        "    @staticmethod\n",
        "    def add(x, y):\n",
        "        return x + y\n",
        "\n",
        "print(Math.add(3, 5))"
      ],
      "metadata": {
        "colab": {
          "base_uri": "https://localhost:8080/"
        },
        "id": "ZKEjw40Tl1Xg",
        "outputId": "13fc7886-d5bb-43df-b797-52f6e156436a"
      },
      "execution_count": 57,
      "outputs": [
        {
          "output_type": "stream",
          "name": "stdout",
          "text": [
            "8\n"
          ]
        }
      ]
    },
    {
      "cell_type": "markdown",
      "source": [
        "2. @classmethod\n",
        "Takes cls as the first parameter, referring to the class itself.\n",
        "\n",
        "Can access or modify class variables, not instance variables.\n",
        "\n",
        "Useful for alternative constructors or class-level operations."
      ],
      "metadata": {
        "id": "XF6YZx9yl4UR"
      }
    },
    {
      "cell_type": "code",
      "source": [
        "class person:\n",
        "    count = 0\n",
        "    def __init__(self, name):\n",
        "        self.name = name\n",
        "        person.count = person.count+1\n",
        "    @classmethod\n",
        "    def get_count(cls):\n",
        "        return cls.count\n",
        "\n",
        "p1 = person(\"Srivani\")\n",
        "p2 = person(\"Aruna\")\n",
        "p3 = person(\"Venu\")\n",
        "\n",
        "print(person.get_count())"
      ],
      "metadata": {
        "colab": {
          "base_uri": "https://localhost:8080/"
        },
        "id": "msxCglNhl60q",
        "outputId": "4a233b5c-b9f0-4372-8718-77e3763e3107"
      },
      "execution_count": 58,
      "outputs": [
        {
          "output_type": "stream",
          "name": "stdout",
          "text": [
            "3\n"
          ]
        }
      ]
    },
    {
      "cell_type": "markdown",
      "source": [
        "23 How does polymorphism work in Python with inheritance?\n",
        "\n",
        "\n",
        "Polymorphism means: \"many forms\"\n",
        "In Python (and OOP in general), polymorphism with inheritance allows you to call the same method on different classes and get different behaviors, depending on which class the object belongs to."
      ],
      "metadata": {
        "id": "ZJNm0hbGmGUY"
      }
    },
    {
      "cell_type": "markdown",
      "source": [
        "How It Works with Inheritance:\n",
        "You define a base class with a method (e.g., speak()).\n",
        "\n",
        "You create subclasses that override this method.\n",
        "\n",
        "You can then call the method on any subclass object, and the correct version of the method is executed."
      ],
      "metadata": {
        "id": "Jvp7J8YSmJS4"
      }
    },
    {
      "cell_type": "code",
      "source": [
        "class Animal:\n",
        "    def speak(self):\n",
        "        return \"Animal makes a sound\"\n",
        "\n",
        "class Dog(Animal):\n",
        "    def speak(self):\n",
        "        return \"Dog barks\"\n",
        "\n",
        "class Cat(Animal):\n",
        "    def speak(self):\n",
        "        return \"Cat meows\"\n",
        "\n",
        "animals = [Dog(), Cat()]  # Polymorphic behavior\n",
        "\n",
        "for i in animals:\n",
        "    print(i.speak())"
      ],
      "metadata": {
        "colab": {
          "base_uri": "https://localhost:8080/"
        },
        "id": "KljgkacwmLeD",
        "outputId": "efe287f6-681b-418f-c45b-be89a872e70e"
      },
      "execution_count": 59,
      "outputs": [
        {
          "output_type": "stream",
          "name": "stdout",
          "text": [
            "Dog barks\n",
            "Cat meows\n"
          ]
        }
      ]
    },
    {
      "cell_type": "markdown",
      "source": [
        "What Happened?\n",
        "Even though both Dog and Cat are treated as Animal types, their own version of speak() is called.\n",
        "\n",
        "This is runtime polymorphism — Python dynamically decides which method to call based on the object’s type."
      ],
      "metadata": {
        "id": "9e3Pi9x7mTsp"
      }
    },
    {
      "cell_type": "markdown",
      "source": [
        "Benefits:\n",
        "Makes your code more flexible and extensible.\n",
        "\n",
        "You can write functions or loops that work with the base class, and they'll still behave correctly for any subclass."
      ],
      "metadata": {
        "id": "VVNXG1ohmX8a"
      }
    },
    {
      "cell_type": "markdown",
      "source": [
        "24. What is method chaining in Python OOP?"
      ],
      "metadata": {
        "id": "535rLqlzmaPh"
      }
    },
    {
      "cell_type": "markdown",
      "source": [
        "Method chaining is a technique in Python where you call multiple methods on the same object in a single line. It works by having each method return the object itself (self), so the next method can be called on it."
      ],
      "metadata": {
        "id": "ValKb__Bmdh6"
      }
    },
    {
      "cell_type": "markdown",
      "source": [
        "Why Use Method Chaining?\n",
        "It makes your code more readable and concise\n",
        "\n",
        "It helps perform sequential operations in a clean way"
      ],
      "metadata": {
        "id": "yWZg0Cs8mfZF"
      }
    },
    {
      "cell_type": "code",
      "source": [
        "class Person:\n",
        "    def __init__(self, name):\n",
        "        self.name = name\n",
        "        self.age = None\n",
        "        self.city = None\n",
        "\n",
        "    def set_age(self, age):\n",
        "        self.age = age\n",
        "        return self  # returns the object itself\n",
        "\n",
        "    def set_city(self, city):\n",
        "        self.city = city\n",
        "        return self\n",
        "\n",
        "    def show(self):\n",
        "        print(f\"Name: {self.name}, Age: {self.age}, City: {self.city}\")"
      ],
      "metadata": {
        "id": "ixmk_CspmjHb"
      },
      "execution_count": 62,
      "outputs": []
    },
    {
      "cell_type": "code",
      "source": [
        "p = Person(\"Srivani\")\n",
        "p.set_age(21).set_city(\"Hyderabad\").show()"
      ],
      "metadata": {
        "colab": {
          "base_uri": "https://localhost:8080/"
        },
        "id": "nLgFrSfymlVq",
        "outputId": "b41d9d53-0842-4c3b-965b-f76efef38070"
      },
      "execution_count": 64,
      "outputs": [
        {
          "output_type": "stream",
          "name": "stdout",
          "text": [
            "Name: Srivani, Age: 21, City: Hyderabad\n"
          ]
        }
      ]
    },
    {
      "cell_type": "markdown",
      "source": [
        "How It Works:\n",
        "set_age() returns self → now .set_city() is called on the same object.\n",
        "\n",
        ".set_city() also returns self → now .show() is called on that same object.\n",
        "\n",
        "This allows you to chain them like: object.method1().method2().method3()"
      ],
      "metadata": {
        "id": "zTm9FiCfnPMg"
      }
    },
    {
      "cell_type": "markdown",
      "source": [
        "25. What is the purpose of the __ call __ method in Python?"
      ],
      "metadata": {
        "id": "ALukdg7snRSi"
      }
    },
    {
      "cell_type": "markdown",
      "source": [
        "If a class defines a __ call __ method, then its instances can be used with parentheses — just like calling a regular function."
      ],
      "metadata": {
        "id": "EHOO1ceqnTbI"
      }
    },
    {
      "cell_type": "code",
      "source": [
        "\n",
        "class Greeter:\n",
        "    def __init__(self, name):\n",
        "        self.name = name\n",
        "\n",
        "    def __call__(self, greeting):\n",
        "        return f\"{greeting}, {self.name}!\"\n",
        "\n",
        "g = Greeter(\"Srivani\")\n",
        "print(g(\"Hello\"))"
      ],
      "metadata": {
        "colab": {
          "base_uri": "https://localhost:8080/"
        },
        "id": "M9qCuzBmnWja",
        "outputId": "08940a28-da33-4b83-bcc3-3f5cb018596b"
      },
      "execution_count": 66,
      "outputs": [
        {
          "output_type": "stream",
          "name": "stdout",
          "text": [
            "Hello, Srivani!\n"
          ]
        }
      ]
    },
    {
      "cell_type": "markdown",
      "source": [
        "Explanation:\n",
        "g(\"Hello\") looks like a function call.\n",
        "\n",
        "But since the Greeter class defines __ call __, this expression actually runs:\n",
        "\n",
        "g.__ call __(\"Hello\")"
      ],
      "metadata": {
        "id": "9XzU_4dpny4I"
      }
    },
    {
      "cell_type": "code",
      "source": [
        "class Counter:\n",
        "    def __init__(self):\n",
        "        self.count = 0\n",
        "\n",
        "    def __call__(self):\n",
        "        self.count += 1\n",
        "        return self.count\n",
        "\n",
        "c = Counter()\n",
        "print(c())\n",
        "print(c())\n",
        "print(c())"
      ],
      "metadata": {
        "colab": {
          "base_uri": "https://localhost:8080/"
        },
        "id": "kpCoQd6fn44i",
        "outputId": "e9b91229-d24d-4abe-f55d-f44edeccb1c2"
      },
      "execution_count": 67,
      "outputs": [
        {
          "output_type": "stream",
          "name": "stdout",
          "text": [
            "1\n",
            "2\n",
            "3\n"
          ]
        }
      ]
    },
    {
      "cell_type": "markdown",
      "source": [
        "__ call __ lets you call an object like a function\n",
        "\n",
        "It's defined like: def __ call __(self, ...):\n",
        "\n",
        "It’s helpful for cleaner, functional-style OOP"
      ],
      "metadata": {
        "id": "-ackV_fOn_ad"
      }
    },
    {
      "cell_type": "markdown",
      "source": [
        "Practical Questions"
      ],
      "metadata": {
        "id": "uav78IQDoKai"
      }
    },
    {
      "cell_type": "markdown",
      "source": [
        "1. Create a parent class Animal with a method speak() that prints a generic message. Create a child class Dog that overrides the speak() method to print \"Bark!\"."
      ],
      "metadata": {
        "id": "mEacs6looMqo"
      }
    },
    {
      "cell_type": "code",
      "source": [
        "class Animal:\n",
        "    def speak(self):\n",
        "        return \"This is Animal sound\"\n",
        "class Dog(Animal):\n",
        "    def speak(self):\n",
        "        return \"Bark!\"\n",
        "\n",
        "d =Dog()\n",
        "print(d.speak())"
      ],
      "metadata": {
        "colab": {
          "base_uri": "https://localhost:8080/"
        },
        "id": "FXl95wQNoPEw",
        "outputId": "2e71633d-3970-460a-a3c5-8a48509997bb"
      },
      "execution_count": 68,
      "outputs": [
        {
          "output_type": "stream",
          "name": "stdout",
          "text": [
            "Bark!\n"
          ]
        }
      ]
    },
    {
      "cell_type": "markdown",
      "source": [
        "2. Write a program to create an abstract class Shape with a method area(). Derive classes Circle and Rectangle from it and implement the area() method in both."
      ],
      "metadata": {
        "id": "tQs7pHKFoWlp"
      }
    },
    {
      "cell_type": "code",
      "source": [
        "from abc import ABC,abstractmethod\n",
        "\n",
        "class Shape(ABC):\n",
        "    @abstractmethod\n",
        "    def area(self):\n",
        "        pass\n",
        "\n",
        "class Circle(Shape):\n",
        "    def area(self):\n",
        "        return \"This is Circle class\"\n",
        "\n",
        "class Rectangle(Shape):\n",
        "    def area(self):\n",
        "        return \"This is Rectangle class\"\n",
        "\n",
        "\n",
        "c = Circle()\n",
        "r = Rectangle()\n",
        "\n",
        "\n",
        "print(c.area())\n",
        "print(r.area())"
      ],
      "metadata": {
        "colab": {
          "base_uri": "https://localhost:8080/"
        },
        "id": "4AL5ZIzPocJy",
        "outputId": "2aacd30c-3b01-40d0-b85b-180175fd2e51"
      },
      "execution_count": 69,
      "outputs": [
        {
          "output_type": "stream",
          "name": "stdout",
          "text": [
            "This is Circle class\n",
            "This is Rectangle class\n"
          ]
        }
      ]
    },
    {
      "cell_type": "markdown",
      "source": [
        "3. Implement a multi-level inheritance scenario where a class Vehicle has an attribute type. Derive a class Car and further derive a class ElectricCar that adds a battery attribute."
      ],
      "metadata": {
        "id": "cjsS1le-ogcC"
      }
    },
    {
      "cell_type": "code",
      "source": [
        "class Vehicle:\n",
        "    def __init__(self,vehicle_type):\n",
        "        self.type = vehicle_type\n",
        "    def Vehicle_info(self):\n",
        "        return f\"This is {self.type} companies Vehicle\"\n",
        "\n",
        "class Car(Vehicle):\n",
        "    def Car_info(self):\n",
        "        return \"This is Car info\"\n",
        "\n",
        "class ElectricCar(Car):\n",
        "    def __init__(self, vehicle_type, battery):\n",
        "        super().__init__(vehicle_type)\n",
        "        self.battery = battery\n",
        "    def ElectricCar_info(self):\n",
        "        return f\"This has {self.battery} battery\"\n",
        "\n",
        "vehicle1 = Vehicle(\"BMW\")\n",
        "car1 = Car(\"BMW\")\n",
        "e_car1 = ElectricCar(\"BMW\",\"Lithium\")"
      ],
      "metadata": {
        "id": "SXRCGwb7oj4D"
      },
      "execution_count": 70,
      "outputs": []
    },
    {
      "cell_type": "code",
      "source": [
        "e_car1.Vehicle_info()"
      ],
      "metadata": {
        "colab": {
          "base_uri": "https://localhost:8080/",
          "height": 36
        },
        "id": "gNcmoPEVoqiz",
        "outputId": "68c495fe-cde2-4280-9630-49dd6db270b6"
      },
      "execution_count": 71,
      "outputs": [
        {
          "output_type": "execute_result",
          "data": {
            "text/plain": [
              "'This is BMW companies Vehicle'"
            ],
            "application/vnd.google.colaboratory.intrinsic+json": {
              "type": "string"
            }
          },
          "metadata": {},
          "execution_count": 71
        }
      ]
    },
    {
      "cell_type": "code",
      "source": [
        "e_car1.Car_info()"
      ],
      "metadata": {
        "colab": {
          "base_uri": "https://localhost:8080/",
          "height": 36
        },
        "id": "UeyW36YfotrZ",
        "outputId": "54c7ca4f-deb3-4bbc-ad5a-7dfb0758422b"
      },
      "execution_count": 72,
      "outputs": [
        {
          "output_type": "execute_result",
          "data": {
            "text/plain": [
              "'This is Car info'"
            ],
            "application/vnd.google.colaboratory.intrinsic+json": {
              "type": "string"
            }
          },
          "metadata": {},
          "execution_count": 72
        }
      ]
    },
    {
      "cell_type": "code",
      "source": [
        "e_car1.ElectricCar_info()"
      ],
      "metadata": {
        "colab": {
          "base_uri": "https://localhost:8080/",
          "height": 36
        },
        "id": "fWTLMOpfo4hL",
        "outputId": "21eedf67-4221-4c30-86ea-508322bd7db5"
      },
      "execution_count": 73,
      "outputs": [
        {
          "output_type": "execute_result",
          "data": {
            "text/plain": [
              "'This has Lithium battery'"
            ],
            "application/vnd.google.colaboratory.intrinsic+json": {
              "type": "string"
            }
          },
          "metadata": {},
          "execution_count": 73
        }
      ]
    },
    {
      "cell_type": "markdown",
      "source": [
        "4. Demonstrate polymorphism by creating a base class Bird with a method fly(). Create two derived classes Sparrow and Penguin that override the fly() method."
      ],
      "metadata": {
        "id": "mF8gtquFo72r"
      }
    },
    {
      "cell_type": "code",
      "source": [
        "class Bird:\n",
        "    def fly(self):\n",
        "        return \"Bird can fly\"\n",
        "\n",
        "class Sparrow(Bird):\n",
        "    def fly(self):\n",
        "        return \"Sparrow is a Bird, sparrow can also fly\"\n",
        "\n",
        "class Penguin(Bird):\n",
        "    def fly(self):\n",
        "        return \"Penguin is also a Bird, But Penguin can not fly\"\n",
        "\n",
        "def bird_type(bird):\n",
        "    return bird.fly()\n",
        "\n",
        "s = Sparrow()\n",
        "p = Penguin()\n",
        "\n",
        "\n",
        "print(bird_type(p))\n",
        "print(bird_type(s))"
      ],
      "metadata": {
        "colab": {
          "base_uri": "https://localhost:8080/"
        },
        "id": "2cLA5CWLo_oJ",
        "outputId": "d528b248-70f8-4747-954b-07a20380527a"
      },
      "execution_count": 75,
      "outputs": [
        {
          "output_type": "stream",
          "name": "stdout",
          "text": [
            "Penguin is also a Bird, But Penguin can not fly\n",
            "Sparrow is a Bird, sparrow can also fly\n"
          ]
        }
      ]
    },
    {
      "cell_type": "markdown",
      "source": [
        "5. Write a program to demonstrate encapsulation by creating a class BankAccount with private attributes balance and methods to deposit, withdraw, and check balance."
      ],
      "metadata": {
        "id": "FOVdEokPpD5R"
      }
    },
    {
      "cell_type": "code",
      "source": [
        "class Bank_account:\n",
        "\n",
        "    def __init__(self,balance=1000):\n",
        "        self.__balance = balance\n",
        "\n",
        "    def deposit(self, amount):\n",
        "        if amount > 0:\n",
        "            self.__balance = self.__balance + amount\n",
        "\n",
        "    def withdraw(self,amount):\n",
        "        if amount > 0:\n",
        "            self.__balance = self.__balance - amount\n",
        "\n",
        "    def check_balance(self):\n",
        "        return self.__balance\n",
        "\n",
        "acc1 = Bank_account()\n",
        "acc1.deposit(1000)\n",
        "print(\"Current Balance : \", acc1.check_balance())"
      ],
      "metadata": {
        "colab": {
          "base_uri": "https://localhost:8080/"
        },
        "id": "2PDq66EKpHVY",
        "outputId": "68a99ce4-0e3e-4b6f-b8f4-ae10fa7c5842"
      },
      "execution_count": 76,
      "outputs": [
        {
          "output_type": "stream",
          "name": "stdout",
          "text": [
            "Current Balance :  2000\n"
          ]
        }
      ]
    },
    {
      "cell_type": "code",
      "source": [
        "acc1.withdraw(500)\n",
        "print(\"Current Balance : \", acc1.check_balance())"
      ],
      "metadata": {
        "colab": {
          "base_uri": "https://localhost:8080/"
        },
        "id": "RgGudU3kpMSy",
        "outputId": "fd41a39e-ef93-4a69-8eb9-d2116f735865"
      },
      "execution_count": 78,
      "outputs": [
        {
          "output_type": "stream",
          "name": "stdout",
          "text": [
            "Current Balance :  1500\n"
          ]
        }
      ]
    },
    {
      "cell_type": "markdown",
      "source": [
        "6. Demonstrate runtime polymorphism using a method play() in a base class Instrument. Derive classes Guitar and Piano that implement their own version of play()."
      ],
      "metadata": {
        "id": "SpbQuO8upUFY"
      }
    },
    {
      "cell_type": "code",
      "source": [
        "class Instrument:\n",
        "    def play(self):\n",
        "        return \"Instruments are playing\"\n",
        "\n",
        "class Guitar(Instrument):\n",
        "    def play(self):\n",
        "        return \"Guitar is Strumming\"\n",
        "\n",
        "class Piano(Instrument):\n",
        "    def play(self):\n",
        "        return \"Piano is playing melodiously\"\n",
        "\n",
        "def start_playing(instrument):\n",
        "    return instrument.play()\n",
        "\n",
        "g = Guitar()\n",
        "p = Piano()\n",
        "\n",
        "print(start_playing(g))\n",
        "print(start_playing(p))"
      ],
      "metadata": {
        "colab": {
          "base_uri": "https://localhost:8080/"
        },
        "id": "TDzK5OvqpYH5",
        "outputId": "6614bca7-ea0b-44b1-b696-a603141eb546"
      },
      "execution_count": 79,
      "outputs": [
        {
          "output_type": "stream",
          "name": "stdout",
          "text": [
            "Guitar is Strumming\n",
            "Piano is playing melodiously\n"
          ]
        }
      ]
    },
    {
      "cell_type": "markdown",
      "source": [
        "7. Create a class MathOperations with a class method add_numbers() to add two numbers and a static method subtract_numbers() to subtract two numbers."
      ],
      "metadata": {
        "id": "hfvTAQy5tA3Q"
      }
    },
    {
      "cell_type": "code",
      "source": [
        "class MathOperations:\n",
        "    @classmethod\n",
        "    def add_numbers(cls,a,b):\n",
        "        return a+b\n",
        "\n",
        "    @staticmethod\n",
        "    def subtract_numbers(a,b):\n",
        "        return a-b\n",
        "\n",
        "print(\"Addition\",MathOperations.add_numbers(10,5))\n",
        "print(\"Subtract\",MathOperations.subtract_numbers(10,5))"
      ],
      "metadata": {
        "colab": {
          "base_uri": "https://localhost:8080/"
        },
        "id": "VTggsINqtD4Z",
        "outputId": "9d9424df-8582-43c1-edd1-87667302a48a"
      },
      "execution_count": 80,
      "outputs": [
        {
          "output_type": "stream",
          "name": "stdout",
          "text": [
            "Addition 15\n",
            "Subtract 5\n"
          ]
        }
      ]
    },
    {
      "cell_type": "code",
      "source": [],
      "metadata": {
        "id": "HK1TV4qMtFMx"
      },
      "execution_count": null,
      "outputs": []
    },
    {
      "cell_type": "markdown",
      "source": [
        "8. Implement a class Person with a class method to count the total number of persons created."
      ],
      "metadata": {
        "id": "R11huMpetNLZ"
      }
    },
    {
      "cell_type": "code",
      "source": [
        "class Person:\n",
        "    count = 0\n",
        "\n",
        "    def __init__(self,name):\n",
        "        self.name = name\n",
        "        Person.count += 1\n",
        "\n",
        "    @classmethod\n",
        "    def total_person(cls):\n",
        "        return cls.count\n",
        "\n",
        "p1 = Person(\"Vishal\")\n",
        "p2 = Person(\"Pratik\")\n",
        "p3 = Person(\"Ravi\")\n",
        "\n",
        "print(Person.total_person())"
      ],
      "metadata": {
        "colab": {
          "base_uri": "https://localhost:8080/"
        },
        "id": "mVSobUNEtPeZ",
        "outputId": "880d0132-3bf4-4d99-d286-8bf9aaf22840"
      },
      "execution_count": 81,
      "outputs": [
        {
          "output_type": "stream",
          "name": "stdout",
          "text": [
            "3\n"
          ]
        }
      ]
    },
    {
      "cell_type": "markdown",
      "source": [
        "9. Write a class Fraction with attributes numerator and denominator. Override the str method to display the fraction as \"numerator/denominator\"."
      ],
      "metadata": {
        "id": "MiH-0EnptSux"
      }
    },
    {
      "cell_type": "code",
      "source": [
        "class Fraction:\n",
        "    def __init__(self,numerator,denominator):\n",
        "        self.numerator = numerator\n",
        "        self.denominator = denominator\n",
        "\n",
        "    def __str__(self):\n",
        "        return f\"{self.numerator}/{self.denominator}\"\n",
        "\n",
        "f1 = Fraction(3,4)\n",
        "print(f1)"
      ],
      "metadata": {
        "colab": {
          "base_uri": "https://localhost:8080/"
        },
        "id": "6gguO1lwtU4K",
        "outputId": "6a0e7f49-3001-4814-fc27-f3db183b7a7f"
      },
      "execution_count": 82,
      "outputs": [
        {
          "output_type": "stream",
          "name": "stdout",
          "text": [
            "3/4\n"
          ]
        }
      ]
    },
    {
      "cell_type": "markdown",
      "source": [
        "10. Demonstrate operator overloading by creating a class Vector and overriding the add method to add two vectors."
      ],
      "metadata": {
        "id": "NwEaBpZstYHx"
      }
    },
    {
      "cell_type": "code",
      "source": [
        "class Vector:\n",
        "    def __init__(self,x,y):\n",
        "        self.x = x\n",
        "        self.y = y\n",
        "    def __add__(self,other):\n",
        "        return Vector(self.x+other.x,self.y+other.y)\n",
        "    def __str__(self):\n",
        "        return f\"({self.x},{self.y})\"\n",
        "\n",
        "v1 = Vector(3,4)\n",
        "v2 = Vector(5,6)\n",
        "v3 = v1+v2\n",
        "\n",
        "\n",
        "print(v3)"
      ],
      "metadata": {
        "colab": {
          "base_uri": "https://localhost:8080/"
        },
        "id": "azERN39Ztbj6",
        "outputId": "4593a401-d921-4046-c3ee-2a39a004f73f"
      },
      "execution_count": 83,
      "outputs": [
        {
          "output_type": "stream",
          "name": "stdout",
          "text": [
            "(8,10)\n"
          ]
        }
      ]
    },
    {
      "cell_type": "markdown",
      "source": [
        "11. Create a class Person with attributes name and age. Add a method greet() that prints \"Hello, my name is {name} and I am {age} years old.\""
      ],
      "metadata": {
        "id": "tjst5XmnteZb"
      }
    },
    {
      "cell_type": "code",
      "source": [
        "class Person:\n",
        "    def __init__(self,name,age):\n",
        "        self.name = name\n",
        "        self.age = age\n",
        "    def greet(self):\n",
        "        return  f\"Hello, my name is {self.name} and I am {self.age} years old\"\n",
        "\n",
        "p1 = Person(\"Srivani\",21)\n",
        "print(p1.greet())"
      ],
      "metadata": {
        "colab": {
          "base_uri": "https://localhost:8080/"
        },
        "id": "vpMRv7dLtgvh",
        "outputId": "db4d92a0-cb88-43e7-cd59-b984f4e14467"
      },
      "execution_count": 84,
      "outputs": [
        {
          "output_type": "stream",
          "name": "stdout",
          "text": [
            "Hello, my name is Srivani and I am 21 years old\n"
          ]
        }
      ]
    },
    {
      "cell_type": "markdown",
      "source": [
        "12. Implement a class Student with attributes name and grades. Create a method average_grade() to compute the average of the grades."
      ],
      "metadata": {
        "id": "P4m56kBHtoAg"
      }
    },
    {
      "cell_type": "code",
      "source": [
        "class Student:\n",
        "    def __init__(self,name,grades):\n",
        "        self.name = name\n",
        "        self.grades = grades\n",
        "\n",
        "    def average_grade(self):\n",
        "        if len(self.grades) ==0:\n",
        "            return 0\n",
        "        return sum(self.grades)/len(self.grades)\n",
        "\n",
        "s1 =Student(\"Srivani\",[98,92,93])\n",
        "print(f\"{s1.name}'s average grade is {s1.average_grade():.2f}\")"
      ],
      "metadata": {
        "colab": {
          "base_uri": "https://localhost:8080/"
        },
        "id": "JdrGk2QotrtQ",
        "outputId": "00baed4a-04ad-4dc7-da7b-f934b6a05af0"
      },
      "execution_count": 85,
      "outputs": [
        {
          "output_type": "stream",
          "name": "stdout",
          "text": [
            "Srivani's average grade is 94.33\n"
          ]
        }
      ]
    },
    {
      "cell_type": "markdown",
      "source": [
        "13. Create a class Rectangle with methods set_dimensions() to set the dimensions and area() to calculate the area."
      ],
      "metadata": {
        "id": "FXzqqAMct1EX"
      }
    },
    {
      "cell_type": "code",
      "source": [
        "class Rectangle:\n",
        "    def __init__(self):\n",
        "        self.length = 0\n",
        "        self.width = 0\n",
        "    def set_dimension(self,length,width):\n",
        "        self.length = length\n",
        "        self.width = width\n",
        "    def area(self):\n",
        "        return self.length*self.width\n",
        "\n",
        "rect = Rectangle()\n",
        "rect.set_dimension(5,4)\n",
        "\n",
        "print(f\"The area of the Rectangle : {rect.area()}\")"
      ],
      "metadata": {
        "colab": {
          "base_uri": "https://localhost:8080/"
        },
        "id": "D7I2zV17t3cA",
        "outputId": "4a09230d-8374-4365-b3fa-25f3c81d7dcf"
      },
      "execution_count": 86,
      "outputs": [
        {
          "output_type": "stream",
          "name": "stdout",
          "text": [
            "The area of the Rectangle : 20\n"
          ]
        }
      ]
    },
    {
      "cell_type": "markdown",
      "source": [
        "14. Create a class Employee with a method calculate_salary() that computes the salary based on hours worked and hourly rate. Create a derived class Manager that adds a bonus to the salary."
      ],
      "metadata": {
        "id": "v2L1tvIjt6mS"
      }
    },
    {
      "cell_type": "code",
      "source": [
        "class Employee:\n",
        "    def __init__(self,name,hours_worked,hourly_rate):\n",
        "        self.name = name\n",
        "        self.hours_worked = hours_worked\n",
        "        self.hourly_rate = hourly_rate\n",
        "    def calculate_salary(self):\n",
        "        return self.hours_worked * self.hourly_rate\n",
        "\n",
        "class Manager(Employee):\n",
        "    def __init__(self,name,hours_worked,hourly_rate,bonus):\n",
        "        super().__init__(name,hours_worked,hourly_rate)\n",
        "        self.bonus = bonus\n",
        "    def calculate_salary(self):\n",
        "        salary = super().calculate_salary()\n",
        "        return salary + self.bonus\n",
        "employee = Employee(\"Srivani\",40,200)\n",
        "manager = Manager(\"Aruna\",30,300,200)\n",
        "\n",
        "\n",
        "print(f\"{employee.name}'s salary: ${employee.calculate_salary()}\")\n",
        "print(f\"{manager.name}'s salary: ${manager.calculate_salary()}\")"
      ],
      "metadata": {
        "colab": {
          "base_uri": "https://localhost:8080/"
        },
        "id": "nyL62UYxt9TH",
        "outputId": "ab9003cc-a077-4a52-bb9f-50ca8ec4cdfd"
      },
      "execution_count": 88,
      "outputs": [
        {
          "output_type": "stream",
          "name": "stdout",
          "text": [
            "Srivani's salary: $8000\n",
            "Aruna's salary: $9200\n"
          ]
        }
      ]
    },
    {
      "cell_type": "markdown",
      "source": [
        "15. Create a class Product with attributes name, price, and quantity. Implement a method total_price() that calculates the total price of the product."
      ],
      "metadata": {
        "id": "1NH22jzkuGO4"
      }
    },
    {
      "cell_type": "code",
      "source": [
        "class Product:\n",
        "    def __init__(self,name,price,quantity):\n",
        "        self.name = name\n",
        "        self.price = price\n",
        "        self.quantity = quantity\n",
        "\n",
        "    def total_price(self):\n",
        "        return self.price*self.quantity\n",
        "\n",
        "p1 = Product(\"Tea\",150,50)\n",
        "\n",
        "print(f\"The rate of {p1.name} is {p1.price} so total quantity of {p1.name} you buying is {p1.quantity} and total amount is {p1.total_price()}\")\n",
        ""
      ],
      "metadata": {
        "colab": {
          "base_uri": "https://localhost:8080/"
        },
        "id": "f97OBCGKuInv",
        "outputId": "fb964543-98be-463d-8d2e-963450579740"
      },
      "execution_count": 89,
      "outputs": [
        {
          "output_type": "stream",
          "name": "stdout",
          "text": [
            "The rate of Tea is 150 so total quantity of Tea you buying is 50 and total amount is 7500\n"
          ]
        }
      ]
    },
    {
      "cell_type": "markdown",
      "source": [
        "16. Create a class Animal with an abstract method sound(). Create two derived classes Cow and Sheep that implement the sound() method."
      ],
      "metadata": {
        "id": "PrD8zNlfuNOY"
      }
    },
    {
      "cell_type": "code",
      "source": [
        "from abc import ABC,abstractmethod\n",
        "class Animal(ABC):\n",
        "    @abstractmethod\n",
        "    def sound(self):\n",
        "        pass\n",
        "\n",
        "class Cow(Animal):\n",
        "    def sound(self):\n",
        "        return \"Cow has sound Mooo!\"\n",
        "\n",
        "class Sheep(Animal):\n",
        "    def sound(self):\n",
        "        return \"Sheep sound is Behehehe !\"\n",
        "\n",
        "cow = Cow()\n",
        "sheep = Sheep()\n",
        "\n",
        "print(cow.sound())\n",
        "print(sheep.sound())"
      ],
      "metadata": {
        "colab": {
          "base_uri": "https://localhost:8080/"
        },
        "id": "cjwtewV3uPiM",
        "outputId": "d4ec10d7-d985-41bc-a25f-cd86050fa748"
      },
      "execution_count": 90,
      "outputs": [
        {
          "output_type": "stream",
          "name": "stdout",
          "text": [
            "Cow has sound Mooo!\n",
            "Sheep sound is Behehehe !\n"
          ]
        }
      ]
    },
    {
      "cell_type": "markdown",
      "source": [
        "17. Create a class Book with attributes title, author, and year_published. Add a method get_book_info() that returns a formatted string with the book's details."
      ],
      "metadata": {
        "id": "jjKbNYzTuWR4"
      }
    },
    {
      "cell_type": "code",
      "source": [
        "class Book:\n",
        "    def __init__(self,title,author,year_published):\n",
        "        self.title = title\n",
        "        self.author = author\n",
        "        self.year_published = year_published\n",
        "    def get_book_info(self):\n",
        "        return f\"{self.title} by {self.author} publish in {self.year_published}\"\n",
        "\n",
        "b1 = Book(\"The Great Gatsby\", \"F. Scott Fitzgerald\", 1925)\n",
        "\n",
        "print(b1.get_book_info())"
      ],
      "metadata": {
        "colab": {
          "base_uri": "https://localhost:8080/"
        },
        "id": "o7KX9NkUuZIY",
        "outputId": "4dd9e0ee-eac7-492f-97e6-4b63d05e31c6"
      },
      "execution_count": 91,
      "outputs": [
        {
          "output_type": "stream",
          "name": "stdout",
          "text": [
            "The Great Gatsby by F. Scott Fitzgerald publish in 1925\n"
          ]
        }
      ]
    },
    {
      "cell_type": "markdown",
      "source": [
        "8. Create a class House with attributes address and price. Create a derived class Mansion that adds an attribute number_of_rooms."
      ],
      "metadata": {
        "id": "D_fXLy6Buco4"
      }
    },
    {
      "cell_type": "code",
      "source": [
        "class House:\n",
        "    def __init__(self,address,price):\n",
        "        self.address = address\n",
        "        self.price = price\n",
        "\n",
        "class Mansion(House):\n",
        "    def __init__(self,address,price,number_of_rooms):\n",
        "        super().__init__(address,price)\n",
        "        self.number_of_rooms = number_of_rooms\n",
        "\n",
        "house1 = House(\"123 Elm St\", 250000)\n",
        "mansion1 = Mansion(\"456 Beverly Hills\", 5000000, 15)\n",
        "\n",
        "print(f\"House: {house1.address}, ${house1.price}\")\n",
        "print(f\"Mansion: {mansion1.address}, ${mansion1.price}, Rooms: {mansion1.number_of_rooms}\")"
      ],
      "metadata": {
        "colab": {
          "base_uri": "https://localhost:8080/"
        },
        "id": "SE-RFnc_ufQo",
        "outputId": "1863d958-3673-4700-8bc6-352092eb0240"
      },
      "execution_count": 92,
      "outputs": [
        {
          "output_type": "stream",
          "name": "stdout",
          "text": [
            "House: 123 Elm St, $250000\n",
            "Mansion: 456 Beverly Hills, $5000000, Rooms: 15\n"
          ]
        }
      ]
    }
  ]
}